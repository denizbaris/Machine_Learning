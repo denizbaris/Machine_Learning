{
  "cells": [
    {
      "cell_type": "markdown",
      "metadata": {
        "id": "view-in-github",
        "colab_type": "text"
      },
      "source": [
        "<a href=\"https://colab.research.google.com/github/denizbaris/Machine_Learning/blob/main/ML_8_(Logistic_Regression_hearing)(TR)_Student_20_Jan_2022.ipynb\" target=\"_parent\"><img src=\"https://colab.research.google.com/assets/colab-badge.svg\" alt=\"Open In Colab\"/></a>"
      ]
    },
    {
      "cell_type": "markdown",
      "metadata": {
        "id": "6mmf2f6G4VaZ"
      },
      "source": [
        "# Logistic Regression"
      ]
    },
    {
      "cell_type": "code",
      "execution_count": 1,
      "metadata": {
        "id": "mDyOPmDg4Vae"
      },
      "outputs": [],
      "source": [
        "import numpy as np\n",
        "import pandas as pd\n",
        "import seaborn as sns\n",
        "import matplotlib.pyplot as plt\n",
        "\n",
        "%matplotlib inline\n",
        "#%matplotlib notebook\n",
        "plt.rcParams[\"figure.figsize\"] = (10,6)\n",
        "import warnings\n",
        "warnings.filterwarnings(\"ignore\")\n",
        "warnings.warn(\"this will not show\")\n",
        "pd.set_option('display.float_format', lambda x: '%.3f' % x)"
      ]
    },
    {
      "cell_type": "code",
      "execution_count": 2,
      "metadata": {
        "id": "APRe8R_g4Vag"
      },
      "outputs": [],
      "source": [
        "df = pd.read_csv('hearing_test.csv') #../data&resources/"
      ]
    },
    {
      "cell_type": "code",
      "execution_count": 3,
      "metadata": {
        "colab": {
          "base_uri": "https://localhost:8080/",
          "height": 206
        },
        "id": "muAOwjsA4Vah",
        "outputId": "cd4ee9b7-8022-461d-ade5-35ddd791139c"
      },
      "outputs": [
        {
          "output_type": "execute_result",
          "data": {
            "text/html": [
              "\n",
              "  <div id=\"df-69f45f69-141e-42cf-ab14-8695e40e122b\">\n",
              "    <div class=\"colab-df-container\">\n",
              "      <div>\n",
              "<style scoped>\n",
              "    .dataframe tbody tr th:only-of-type {\n",
              "        vertical-align: middle;\n",
              "    }\n",
              "\n",
              "    .dataframe tbody tr th {\n",
              "        vertical-align: top;\n",
              "    }\n",
              "\n",
              "    .dataframe thead th {\n",
              "        text-align: right;\n",
              "    }\n",
              "</style>\n",
              "<table border=\"1\" class=\"dataframe\">\n",
              "  <thead>\n",
              "    <tr style=\"text-align: right;\">\n",
              "      <th></th>\n",
              "      <th>age</th>\n",
              "      <th>physical_score</th>\n",
              "      <th>test_result</th>\n",
              "    </tr>\n",
              "  </thead>\n",
              "  <tbody>\n",
              "    <tr>\n",
              "      <th>0</th>\n",
              "      <td>33.000</td>\n",
              "      <td>40.700</td>\n",
              "      <td>1</td>\n",
              "    </tr>\n",
              "    <tr>\n",
              "      <th>1</th>\n",
              "      <td>50.000</td>\n",
              "      <td>37.200</td>\n",
              "      <td>1</td>\n",
              "    </tr>\n",
              "    <tr>\n",
              "      <th>2</th>\n",
              "      <td>52.000</td>\n",
              "      <td>24.700</td>\n",
              "      <td>0</td>\n",
              "    </tr>\n",
              "    <tr>\n",
              "      <th>3</th>\n",
              "      <td>56.000</td>\n",
              "      <td>31.000</td>\n",
              "      <td>0</td>\n",
              "    </tr>\n",
              "    <tr>\n",
              "      <th>4</th>\n",
              "      <td>35.000</td>\n",
              "      <td>42.900</td>\n",
              "      <td>1</td>\n",
              "    </tr>\n",
              "  </tbody>\n",
              "</table>\n",
              "</div>\n",
              "      <button class=\"colab-df-convert\" onclick=\"convertToInteractive('df-69f45f69-141e-42cf-ab14-8695e40e122b')\"\n",
              "              title=\"Convert this dataframe to an interactive table.\"\n",
              "              style=\"display:none;\">\n",
              "        \n",
              "  <svg xmlns=\"http://www.w3.org/2000/svg\" height=\"24px\"viewBox=\"0 0 24 24\"\n",
              "       width=\"24px\">\n",
              "    <path d=\"M0 0h24v24H0V0z\" fill=\"none\"/>\n",
              "    <path d=\"M18.56 5.44l.94 2.06.94-2.06 2.06-.94-2.06-.94-.94-2.06-.94 2.06-2.06.94zm-11 1L8.5 8.5l.94-2.06 2.06-.94-2.06-.94L8.5 2.5l-.94 2.06-2.06.94zm10 10l.94 2.06.94-2.06 2.06-.94-2.06-.94-.94-2.06-.94 2.06-2.06.94z\"/><path d=\"M17.41 7.96l-1.37-1.37c-.4-.4-.92-.59-1.43-.59-.52 0-1.04.2-1.43.59L10.3 9.45l-7.72 7.72c-.78.78-.78 2.05 0 2.83L4 21.41c.39.39.9.59 1.41.59.51 0 1.02-.2 1.41-.59l7.78-7.78 2.81-2.81c.8-.78.8-2.07 0-2.86zM5.41 20L4 18.59l7.72-7.72 1.47 1.35L5.41 20z\"/>\n",
              "  </svg>\n",
              "      </button>\n",
              "      \n",
              "  <style>\n",
              "    .colab-df-container {\n",
              "      display:flex;\n",
              "      flex-wrap:wrap;\n",
              "      gap: 12px;\n",
              "    }\n",
              "\n",
              "    .colab-df-convert {\n",
              "      background-color: #E8F0FE;\n",
              "      border: none;\n",
              "      border-radius: 50%;\n",
              "      cursor: pointer;\n",
              "      display: none;\n",
              "      fill: #1967D2;\n",
              "      height: 32px;\n",
              "      padding: 0 0 0 0;\n",
              "      width: 32px;\n",
              "    }\n",
              "\n",
              "    .colab-df-convert:hover {\n",
              "      background-color: #E2EBFA;\n",
              "      box-shadow: 0px 1px 2px rgba(60, 64, 67, 0.3), 0px 1px 3px 1px rgba(60, 64, 67, 0.15);\n",
              "      fill: #174EA6;\n",
              "    }\n",
              "\n",
              "    [theme=dark] .colab-df-convert {\n",
              "      background-color: #3B4455;\n",
              "      fill: #D2E3FC;\n",
              "    }\n",
              "\n",
              "    [theme=dark] .colab-df-convert:hover {\n",
              "      background-color: #434B5C;\n",
              "      box-shadow: 0px 1px 3px 1px rgba(0, 0, 0, 0.15);\n",
              "      filter: drop-shadow(0px 1px 2px rgba(0, 0, 0, 0.3));\n",
              "      fill: #FFFFFF;\n",
              "    }\n",
              "  </style>\n",
              "\n",
              "      <script>\n",
              "        const buttonEl =\n",
              "          document.querySelector('#df-69f45f69-141e-42cf-ab14-8695e40e122b button.colab-df-convert');\n",
              "        buttonEl.style.display =\n",
              "          google.colab.kernel.accessAllowed ? 'block' : 'none';\n",
              "\n",
              "        async function convertToInteractive(key) {\n",
              "          const element = document.querySelector('#df-69f45f69-141e-42cf-ab14-8695e40e122b');\n",
              "          const dataTable =\n",
              "            await google.colab.kernel.invokeFunction('convertToInteractive',\n",
              "                                                     [key], {});\n",
              "          if (!dataTable) return;\n",
              "\n",
              "          const docLinkHtml = 'Like what you see? Visit the ' +\n",
              "            '<a target=\"_blank\" href=https://colab.research.google.com/notebooks/data_table.ipynb>data table notebook</a>'\n",
              "            + ' to learn more about interactive tables.';\n",
              "          element.innerHTML = '';\n",
              "          dataTable['output_type'] = 'display_data';\n",
              "          await google.colab.output.renderOutput(dataTable, element);\n",
              "          const docLink = document.createElement('div');\n",
              "          docLink.innerHTML = docLinkHtml;\n",
              "          element.appendChild(docLink);\n",
              "        }\n",
              "      </script>\n",
              "    </div>\n",
              "  </div>\n",
              "  "
            ],
            "text/plain": [
              "     age  physical_score  test_result\n",
              "0 33.000          40.700            1\n",
              "1 50.000          37.200            1\n",
              "2 52.000          24.700            0\n",
              "3 56.000          31.000            0\n",
              "4 35.000          42.900            1"
            ]
          },
          "metadata": {},
          "execution_count": 3
        }
      ],
      "source": [
        "df.head()"
      ]
    },
    {
      "cell_type": "markdown",
      "metadata": {
        "id": "2TpqS94R4Vak"
      },
      "source": [
        "## Exploratory Data Analysis and Visualization"
      ]
    },
    {
      "cell_type": "code",
      "execution_count": 4,
      "metadata": {
        "colab": {
          "base_uri": "https://localhost:8080/"
        },
        "id": "CQ2WhQ5R4Val",
        "outputId": "818adbe0-87c9-4492-f737-49033456a654"
      },
      "outputs": [
        {
          "output_type": "stream",
          "name": "stdout",
          "text": [
            "<class 'pandas.core.frame.DataFrame'>\n",
            "RangeIndex: 5000 entries, 0 to 4999\n",
            "Data columns (total 3 columns):\n",
            " #   Column          Non-Null Count  Dtype  \n",
            "---  ------          --------------  -----  \n",
            " 0   age             5000 non-null   float64\n",
            " 1   physical_score  5000 non-null   float64\n",
            " 2   test_result     5000 non-null   int64  \n",
            "dtypes: float64(2), int64(1)\n",
            "memory usage: 117.3 KB\n"
          ]
        }
      ],
      "source": [
        "df.info()"
      ]
    },
    {
      "cell_type": "code",
      "execution_count": 5,
      "metadata": {
        "colab": {
          "base_uri": "https://localhost:8080/",
          "height": 143
        },
        "id": "6chM7AkQ4Vam",
        "outputId": "4d443cf3-19e9-4618-eb94-af71fdb16f0e"
      },
      "outputs": [
        {
          "output_type": "execute_result",
          "data": {
            "text/html": [
              "\n",
              "  <div id=\"df-fe80e18f-c417-49bd-9d28-c19c12fa63d9\">\n",
              "    <div class=\"colab-df-container\">\n",
              "      <div>\n",
              "<style scoped>\n",
              "    .dataframe tbody tr th:only-of-type {\n",
              "        vertical-align: middle;\n",
              "    }\n",
              "\n",
              "    .dataframe tbody tr th {\n",
              "        vertical-align: top;\n",
              "    }\n",
              "\n",
              "    .dataframe thead th {\n",
              "        text-align: right;\n",
              "    }\n",
              "</style>\n",
              "<table border=\"1\" class=\"dataframe\">\n",
              "  <thead>\n",
              "    <tr style=\"text-align: right;\">\n",
              "      <th></th>\n",
              "      <th>count</th>\n",
              "      <th>mean</th>\n",
              "      <th>std</th>\n",
              "      <th>min</th>\n",
              "      <th>25%</th>\n",
              "      <th>50%</th>\n",
              "      <th>75%</th>\n",
              "      <th>max</th>\n",
              "    </tr>\n",
              "  </thead>\n",
              "  <tbody>\n",
              "    <tr>\n",
              "      <th>age</th>\n",
              "      <td>5000.000</td>\n",
              "      <td>51.609</td>\n",
              "      <td>11.287</td>\n",
              "      <td>18.000</td>\n",
              "      <td>43.000</td>\n",
              "      <td>51.000</td>\n",
              "      <td>60.000</td>\n",
              "      <td>90.000</td>\n",
              "    </tr>\n",
              "    <tr>\n",
              "      <th>physical_score</th>\n",
              "      <td>5000.000</td>\n",
              "      <td>32.760</td>\n",
              "      <td>8.170</td>\n",
              "      <td>-0.000</td>\n",
              "      <td>26.700</td>\n",
              "      <td>35.300</td>\n",
              "      <td>38.900</td>\n",
              "      <td>50.000</td>\n",
              "    </tr>\n",
              "    <tr>\n",
              "      <th>test_result</th>\n",
              "      <td>5000.000</td>\n",
              "      <td>0.600</td>\n",
              "      <td>0.490</td>\n",
              "      <td>0.000</td>\n",
              "      <td>0.000</td>\n",
              "      <td>1.000</td>\n",
              "      <td>1.000</td>\n",
              "      <td>1.000</td>\n",
              "    </tr>\n",
              "  </tbody>\n",
              "</table>\n",
              "</div>\n",
              "      <button class=\"colab-df-convert\" onclick=\"convertToInteractive('df-fe80e18f-c417-49bd-9d28-c19c12fa63d9')\"\n",
              "              title=\"Convert this dataframe to an interactive table.\"\n",
              "              style=\"display:none;\">\n",
              "        \n",
              "  <svg xmlns=\"http://www.w3.org/2000/svg\" height=\"24px\"viewBox=\"0 0 24 24\"\n",
              "       width=\"24px\">\n",
              "    <path d=\"M0 0h24v24H0V0z\" fill=\"none\"/>\n",
              "    <path d=\"M18.56 5.44l.94 2.06.94-2.06 2.06-.94-2.06-.94-.94-2.06-.94 2.06-2.06.94zm-11 1L8.5 8.5l.94-2.06 2.06-.94-2.06-.94L8.5 2.5l-.94 2.06-2.06.94zm10 10l.94 2.06.94-2.06 2.06-.94-2.06-.94-.94-2.06-.94 2.06-2.06.94z\"/><path d=\"M17.41 7.96l-1.37-1.37c-.4-.4-.92-.59-1.43-.59-.52 0-1.04.2-1.43.59L10.3 9.45l-7.72 7.72c-.78.78-.78 2.05 0 2.83L4 21.41c.39.39.9.59 1.41.59.51 0 1.02-.2 1.41-.59l7.78-7.78 2.81-2.81c.8-.78.8-2.07 0-2.86zM5.41 20L4 18.59l7.72-7.72 1.47 1.35L5.41 20z\"/>\n",
              "  </svg>\n",
              "      </button>\n",
              "      \n",
              "  <style>\n",
              "    .colab-df-container {\n",
              "      display:flex;\n",
              "      flex-wrap:wrap;\n",
              "      gap: 12px;\n",
              "    }\n",
              "\n",
              "    .colab-df-convert {\n",
              "      background-color: #E8F0FE;\n",
              "      border: none;\n",
              "      border-radius: 50%;\n",
              "      cursor: pointer;\n",
              "      display: none;\n",
              "      fill: #1967D2;\n",
              "      height: 32px;\n",
              "      padding: 0 0 0 0;\n",
              "      width: 32px;\n",
              "    }\n",
              "\n",
              "    .colab-df-convert:hover {\n",
              "      background-color: #E2EBFA;\n",
              "      box-shadow: 0px 1px 2px rgba(60, 64, 67, 0.3), 0px 1px 3px 1px rgba(60, 64, 67, 0.15);\n",
              "      fill: #174EA6;\n",
              "    }\n",
              "\n",
              "    [theme=dark] .colab-df-convert {\n",
              "      background-color: #3B4455;\n",
              "      fill: #D2E3FC;\n",
              "    }\n",
              "\n",
              "    [theme=dark] .colab-df-convert:hover {\n",
              "      background-color: #434B5C;\n",
              "      box-shadow: 0px 1px 3px 1px rgba(0, 0, 0, 0.15);\n",
              "      filter: drop-shadow(0px 1px 2px rgba(0, 0, 0, 0.3));\n",
              "      fill: #FFFFFF;\n",
              "    }\n",
              "  </style>\n",
              "\n",
              "      <script>\n",
              "        const buttonEl =\n",
              "          document.querySelector('#df-fe80e18f-c417-49bd-9d28-c19c12fa63d9 button.colab-df-convert');\n",
              "        buttonEl.style.display =\n",
              "          google.colab.kernel.accessAllowed ? 'block' : 'none';\n",
              "\n",
              "        async function convertToInteractive(key) {\n",
              "          const element = document.querySelector('#df-fe80e18f-c417-49bd-9d28-c19c12fa63d9');\n",
              "          const dataTable =\n",
              "            await google.colab.kernel.invokeFunction('convertToInteractive',\n",
              "                                                     [key], {});\n",
              "          if (!dataTable) return;\n",
              "\n",
              "          const docLinkHtml = 'Like what you see? Visit the ' +\n",
              "            '<a target=\"_blank\" href=https://colab.research.google.com/notebooks/data_table.ipynb>data table notebook</a>'\n",
              "            + ' to learn more about interactive tables.';\n",
              "          element.innerHTML = '';\n",
              "          dataTable['output_type'] = 'display_data';\n",
              "          await google.colab.output.renderOutput(dataTable, element);\n",
              "          const docLink = document.createElement('div');\n",
              "          docLink.innerHTML = docLinkHtml;\n",
              "          element.appendChild(docLink);\n",
              "        }\n",
              "      </script>\n",
              "    </div>\n",
              "  </div>\n",
              "  "
            ],
            "text/plain": [
              "                  count   mean    std    min    25%    50%    75%    max\n",
              "age            5000.000 51.609 11.287 18.000 43.000 51.000 60.000 90.000\n",
              "physical_score 5000.000 32.760  8.170 -0.000 26.700 35.300 38.900 50.000\n",
              "test_result    5000.000  0.600  0.490  0.000  0.000  1.000  1.000  1.000"
            ]
          },
          "metadata": {},
          "execution_count": 5
        }
      ],
      "source": [
        "df.describe().T"
      ]
    },
    {
      "cell_type": "code",
      "execution_count": 6,
      "metadata": {
        "colab": {
          "base_uri": "https://localhost:8080/"
        },
        "id": "k-Z3Pmjz4Van",
        "outputId": "f46a338b-d7ba-4cb8-8b6d-69e43af192bc"
      },
      "outputs": [
        {
          "output_type": "execute_result",
          "data": {
            "text/plain": [
              "1    3000\n",
              "0    2000\n",
              "Name: test_result, dtype: int64"
            ]
          },
          "metadata": {},
          "execution_count": 6
        }
      ],
      "source": [
        "df['test_result'].value_counts()"
      ]
    },
    {
      "cell_type": "code",
      "execution_count": 7,
      "metadata": {
        "colab": {
          "base_uri": "https://localhost:8080/",
          "height": 284
        },
        "id": "fDBreSSf4Vao",
        "outputId": "e1f6d8d7-a59e-48eb-fca8-101f41666dd6"
      },
      "outputs": [
        {
          "output_type": "display_data",
          "data": {
            "image/png": "[encoded data removed]",
            "text/plain": [
              "<Figure size 432x288 with 1 Axes>"
            ]
          },
          "metadata": {
            "needs_background": "light"
          }
        }
      ],
      "source": [
        "ax = sns.countplot(df['test_result'])\n",
        "ax.spines['top'].set_visible(False)\n",
        "ax.spines['right'].set_visible(False)\n",
        "for p in ax.patches:\n",
        "    ax.annotate(str(p.get_height()), (p.get_x() + 0.3, p.get_height() * 1.03));"
      ]
    },
    {
      "cell_type": "code",
      "execution_count": 8,
      "metadata": {
        "colab": {
          "base_uri": "https://localhost:8080/",
          "height": 280
        },
        "id": "-4GuGGbl4Vap",
        "outputId": "d109c745-e6e8-48ed-f3b0-1c2cb842df8f"
      },
      "outputs": [
        {
          "output_type": "display_data",
          "data": {
            "image/png": "[encoded data removed]",
            "text/plain": [
              "<Figure size 432x288 with 1 Axes>"
            ]
          },
          "metadata": {
            "needs_background": "light"
          }
        }
      ],
      "source": [
        "sns.boxplot(x='test_result',y='age',data=df);"
      ]
    },
    {
      "cell_type": "code",
      "execution_count": 9,
      "metadata": {
        "colab": {
          "base_uri": "https://localhost:8080/",
          "height": 298
        },
        "id": "VbwJRqD-4Vap",
        "outputId": "cb147cb4-c867-4b50-ffb4-7589f2df08f7"
      },
      "outputs": [
        {
          "output_type": "execute_result",
          "data": {
            "text/plain": [
              "<matplotlib.axes._subplots.AxesSubplot at 0x7f487356fe10>"
            ]
          },
          "metadata": {},
          "execution_count": 9
        },
        {
          "output_type": "display_data",
          "data": {
            "image/png": "[encoded data removed]",
            "text/plain": [
              "<Figure size 432x288 with 1 Axes>"
            ]
          },
          "metadata": {
            "needs_background": "light"
          }
        }
      ],
      "source": [
        "sns.boxplot(x='test_result',y='physical_score',data=df)"
      ]
    },
    {
      "cell_type": "code",
      "execution_count": 10,
      "metadata": {
        "colab": {
          "base_uri": "https://localhost:8080/",
          "height": 279
        },
        "id": "v6byUR_s4Vaq",
        "outputId": "bbf2bbbe-3d04-47b6-93d7-f125ebe027a2"
      },
      "outputs": [
        {
          "output_type": "display_data",
          "data": {
            "image/png": "[encoded data removed]",
            "text/plain": [
              "<Figure size 432x288 with 1 Axes>"
            ]
          },
          "metadata": {
            "needs_background": "light"
          }
        }
      ],
      "source": [
        "sns.scatterplot(x='age', y='physical_score', data=df, hue='test_result', alpha=0.5);"
      ]
    },
    {
      "cell_type": "code",
      "execution_count": 11,
      "metadata": {
        "colab": {
          "base_uri": "https://localhost:8080/",
          "height": 374
        },
        "id": "dwucXoH94Var",
        "outputId": "cc621f9f-6d1d-4ff1-c9b6-c9e27b7f57ff"
      },
      "outputs": [
        {
          "output_type": "display_data",
          "data": {
            "image/png": "[encoded data removed]",
            "text/plain": [
              "<Figure size 420.5x360 with 6 Axes>"
            ]
          },
          "metadata": {
            "needs_background": "light"
          }
        }
      ],
      "source": [
        "sns.pairplot(df,hue='test_result');"
      ]
    },
    {
      "cell_type": "code",
      "execution_count": 12,
      "metadata": {
        "colab": {
          "base_uri": "https://localhost:8080/",
          "height": 270
        },
        "id": "RdG41w-_4Vas",
        "outputId": "94060aba-b7fc-4bbe-f745-a21e2357bc09"
      },
      "outputs": [
        {
          "output_type": "display_data",
          "data": {
            "image/png": "[encoded data removed]",
            "text/plain": [
              "<Figure size 432x288 with 2 Axes>"
            ]
          },
          "metadata": {
            "needs_background": "light"
          }
        }
      ],
      "source": [
        "sns.heatmap(df.corr(), annot=True);"
      ]
    },
    {
      "cell_type": "code",
      "execution_count": 13,
      "metadata": {
        "colab": {
          "base_uri": "https://localhost:8080/",
          "height": 280
        },
        "id": "UpgEw6vw4Vat",
        "outputId": "2d65d2a6-41b7-473c-8fb1-98f6c77872ce"
      },
      "outputs": [
        {
          "output_type": "display_data",
          "data": {
            "image/png": "[encoded data removed]",
            "text/plain": [
              "<Figure size 432x288 with 1 Axes>"
            ]
          },
          "metadata": {
            "needs_background": "light"
          }
        }
      ],
      "source": [
        "sns.scatterplot(x='physical_score',y='test_result',data=df);"
      ]
    },
    {
      "cell_type": "markdown",
      "metadata": {
        "id": "RALf0Jpl4Vat"
      },
      "source": [
        "## Train | Test Split and Scaling"
      ]
    },
    {
      "cell_type": "code",
      "execution_count": 14,
      "metadata": {
        "id": "J_AnswXc4Vau"
      },
      "outputs": [],
      "source": [
        "X = df.drop('test_result',axis=1)\n",
        "y = df['test_result']"
      ]
    },
    {
      "cell_type": "code",
      "execution_count": 15,
      "metadata": {
        "id": "41Y6wVl94Vav"
      },
      "outputs": [],
      "source": [
        "from sklearn.model_selection import train_test_split\n",
        "from sklearn.preprocessing import StandardScaler"
      ]
    },
    {
      "cell_type": "code",
      "execution_count": 16,
      "metadata": {
        "id": "VbVDKj2h4Vaw"
      },
      "outputs": [],
      "source": [
        "X_train, X_test, y_train, y_test = train_test_split(X, y, test_size=0.1, random_state=101)"
      ]
    },
    {
      "cell_type": "code",
      "execution_count": 17,
      "metadata": {
        "id": "od2O-qVI4Vax"
      },
      "outputs": [],
      "source": [
        "scaler = StandardScaler()"
      ]
    },
    {
      "cell_type": "code",
      "execution_count": 18,
      "metadata": {
        "id": "3aEi-5em4Vay"
      },
      "outputs": [],
      "source": [
        "X_train_scaled = scaler.fit_transform(X_train)\n",
        "X_test_scaled = scaler.transform(X_test)"
      ]
    },
    {
      "cell_type": "markdown",
      "metadata": {
        "id": "n8F5N2Vp4Va0"
      },
      "source": [
        "## Modelling"
      ]
    },
    {
      "cell_type": "code",
      "execution_count": 19,
      "metadata": {
        "id": "OEtmPzhS4Va2"
      },
      "outputs": [],
      "source": [
        "from sklearn.linear_model import LogisticRegression"
      ]
    },
    {
      "cell_type": "markdown",
      "metadata": {
        "id": "FatggAnw4Va4"
      },
      "source": [
        "https://scikit-learn.org/stable/modules/generated/sklearn.linear_model.LogisticRegression.html"
      ]
    },
    {
      "cell_type": "code",
      "execution_count": 20,
      "metadata": {
        "id": "15w5VOn04Va5"
      },
      "outputs": [],
      "source": [
        "#help(LogisticRegression)"
      ]
    },
    {
      "cell_type": "code",
      "execution_count": 21,
      "metadata": {
        "id": "UlqD5VmI4Va5"
      },
      "outputs": [],
      "source": [
        "log_model = LogisticRegression()"
      ]
    },
    {
      "cell_type": "code",
      "execution_count": 22,
      "metadata": {
        "colab": {
          "base_uri": "https://localhost:8080/"
        },
        "id": "AaPJ4vng4Va5",
        "outputId": "2c1d4e3e-f0f3-4d48-83f5-3e6efefcccf2"
      },
      "outputs": [
        {
          "output_type": "execute_result",
          "data": {
            "text/plain": [
              "LogisticRegression()"
            ]
          },
          "metadata": {},
          "execution_count": 22
        }
      ],
      "source": [
        "log_model.fit(X_train_scaled, y_train)"
      ]
    },
    {
      "cell_type": "code",
      "source": [
        "df"
      ],
      "metadata": {
        "colab": {
          "base_uri": "https://localhost:8080/",
          "height": 423
        },
        "id": "jybaZ93w4vxL",
        "outputId": "0eec9406-1fc2-4603-e074-e89c7f2b70ed"
      },
      "execution_count": 25,
      "outputs": [
        {
          "output_type": "execute_result",
          "data": {
            "text/html": [
              "\n",
              "  <div id=\"df-74f653a0-310b-4176-8de7-418c11b28a3b\">\n",
              "    <div class=\"colab-df-container\">\n",
              "      <div>\n",
              "<style scoped>\n",
              "    .dataframe tbody tr th:only-of-type {\n",
              "        vertical-align: middle;\n",
              "    }\n",
              "\n",
              "    .dataframe tbody tr th {\n",
              "        vertical-align: top;\n",
              "    }\n",
              "\n",
              "    .dataframe thead th {\n",
              "        text-align: right;\n",
              "    }\n",
              "</style>\n",
              "<table border=\"1\" class=\"dataframe\">\n",
              "  <thead>\n",
              "    <tr style=\"text-align: right;\">\n",
              "      <th></th>\n",
              "      <th>age</th>\n",
              "      <th>physical_score</th>\n",
              "      <th>test_result</th>\n",
              "    </tr>\n",
              "  </thead>\n",
              "  <tbody>\n",
              "    <tr>\n",
              "      <th>0</th>\n",
              "      <td>33.000</td>\n",
              "      <td>40.700</td>\n",
              "      <td>1</td>\n",
              "    </tr>\n",
              "    <tr>\n",
              "      <th>1</th>\n",
              "      <td>50.000</td>\n",
              "      <td>37.200</td>\n",
              "      <td>1</td>\n",
              "    </tr>\n",
              "    <tr>\n",
              "      <th>2</th>\n",
              "      <td>52.000</td>\n",
              "      <td>24.700</td>\n",
              "      <td>0</td>\n",
              "    </tr>\n",
              "    <tr>\n",
              "      <th>3</th>\n",
              "      <td>56.000</td>\n",
              "      <td>31.000</td>\n",
              "      <td>0</td>\n",
              "    </tr>\n",
              "    <tr>\n",
              "      <th>4</th>\n",
              "      <td>35.000</td>\n",
              "      <td>42.900</td>\n",
              "      <td>1</td>\n",
              "    </tr>\n",
              "    <tr>\n",
              "      <th>...</th>\n",
              "      <td>...</td>\n",
              "      <td>...</td>\n",
              "      <td>...</td>\n",
              "    </tr>\n",
              "    <tr>\n",
              "      <th>4995</th>\n",
              "      <td>73.000</td>\n",
              "      <td>3.900</td>\n",
              "      <td>0</td>\n",
              "    </tr>\n",
              "    <tr>\n",
              "      <th>4996</th>\n",
              "      <td>57.000</td>\n",
              "      <td>33.900</td>\n",
              "      <td>1</td>\n",
              "    </tr>\n",
              "    <tr>\n",
              "      <th>4997</th>\n",
              "      <td>49.000</td>\n",
              "      <td>34.500</td>\n",
              "      <td>1</td>\n",
              "    </tr>\n",
              "    <tr>\n",
              "      <th>4998</th>\n",
              "      <td>38.000</td>\n",
              "      <td>46.400</td>\n",
              "      <td>1</td>\n",
              "    </tr>\n",
              "    <tr>\n",
              "      <th>4999</th>\n",
              "      <td>48.000</td>\n",
              "      <td>38.500</td>\n",
              "      <td>1</td>\n",
              "    </tr>\n",
              "  </tbody>\n",
              "</table>\n",
              "<p>5000 rows × 3 columns</p>\n",
              "</div>\n",
              "      <button class=\"colab-df-convert\" onclick=\"convertToInteractive('df-74f653a0-310b-4176-8de7-418c11b28a3b')\"\n",
              "              title=\"Convert this dataframe to an interactive table.\"\n",
              "              style=\"display:none;\">\n",
              "        \n",
              "  <svg xmlns=\"http://www.w3.org/2000/svg\" height=\"24px\"viewBox=\"0 0 24 24\"\n",
              "       width=\"24px\">\n",
              "    <path d=\"M0 0h24v24H0V0z\" fill=\"none\"/>\n",
              "    <path d=\"M18.56 5.44l.94 2.06.94-2.06 2.06-.94-2.06-.94-.94-2.06-.94 2.06-2.06.94zm-11 1L8.5 8.5l.94-2.06 2.06-.94-2.06-.94L8.5 2.5l-.94 2.06-2.06.94zm10 10l.94 2.06.94-2.06 2.06-.94-2.06-.94-.94-2.06-.94 2.06-2.06.94z\"/><path d=\"M17.41 7.96l-1.37-1.37c-.4-.4-.92-.59-1.43-.59-.52 0-1.04.2-1.43.59L10.3 9.45l-7.72 7.72c-.78.78-.78 2.05 0 2.83L4 21.41c.39.39.9.59 1.41.59.51 0 1.02-.2 1.41-.59l7.78-7.78 2.81-2.81c.8-.78.8-2.07 0-2.86zM5.41 20L4 18.59l7.72-7.72 1.47 1.35L5.41 20z\"/>\n",
              "  </svg>\n",
              "      </button>\n",
              "      \n",
              "  <style>\n",
              "    .colab-df-container {\n",
              "      display:flex;\n",
              "      flex-wrap:wrap;\n",
              "      gap: 12px;\n",
              "    }\n",
              "\n",
              "    .colab-df-convert {\n",
              "      background-color: #E8F0FE;\n",
              "      border: none;\n",
              "      border-radius: 50%;\n",
              "      cursor: pointer;\n",
              "      display: none;\n",
              "      fill: #1967D2;\n",
              "      height: 32px;\n",
              "      padding: 0 0 0 0;\n",
              "      width: 32px;\n",
              "    }\n",
              "\n",
              "    .colab-df-convert:hover {\n",
              "      background-color: #E2EBFA;\n",
              "      box-shadow: 0px 1px 2px rgba(60, 64, 67, 0.3), 0px 1px 3px 1px rgba(60, 64, 67, 0.15);\n",
              "      fill: #174EA6;\n",
              "    }\n",
              "\n",
              "    [theme=dark] .colab-df-convert {\n",
              "      background-color: #3B4455;\n",
              "      fill: #D2E3FC;\n",
              "    }\n",
              "\n",
              "    [theme=dark] .colab-df-convert:hover {\n",
              "      background-color: #434B5C;\n",
              "      box-shadow: 0px 1px 3px 1px rgba(0, 0, 0, 0.15);\n",
              "      filter: drop-shadow(0px 1px 2px rgba(0, 0, 0, 0.3));\n",
              "      fill: #FFFFFF;\n",
              "    }\n",
              "  </style>\n",
              "\n",
              "      <script>\n",
              "        const buttonEl =\n",
              "          document.querySelector('#df-74f653a0-310b-4176-8de7-418c11b28a3b button.colab-df-convert');\n",
              "        buttonEl.style.display =\n",
              "          google.colab.kernel.accessAllowed ? 'block' : 'none';\n",
              "\n",
              "        async function convertToInteractive(key) {\n",
              "          const element = document.querySelector('#df-74f653a0-310b-4176-8de7-418c11b28a3b');\n",
              "          const dataTable =\n",
              "            await google.colab.kernel.invokeFunction('convertToInteractive',\n",
              "                                                     [key], {});\n",
              "          if (!dataTable) return;\n",
              "\n",
              "          const docLinkHtml = 'Like what you see? Visit the ' +\n",
              "            '<a target=\"_blank\" href=https://colab.research.google.com/notebooks/data_table.ipynb>data table notebook</a>'\n",
              "            + ' to learn more about interactive tables.';\n",
              "          element.innerHTML = '';\n",
              "          dataTable['output_type'] = 'display_data';\n",
              "          await google.colab.output.renderOutput(dataTable, element);\n",
              "          const docLink = document.createElement('div');\n",
              "          docLink.innerHTML = docLinkHtml;\n",
              "          element.appendChild(docLink);\n",
              "        }\n",
              "      </script>\n",
              "    </div>\n",
              "  </div>\n",
              "  "
            ],
            "text/plain": [
              "        age  physical_score  test_result\n",
              "0    33.000          40.700            1\n",
              "1    50.000          37.200            1\n",
              "2    52.000          24.700            0\n",
              "3    56.000          31.000            0\n",
              "4    35.000          42.900            1\n",
              "...     ...             ...          ...\n",
              "4995 73.000           3.900            0\n",
              "4996 57.000          33.900            1\n",
              "4997 49.000          34.500            1\n",
              "4998 38.000          46.400            1\n",
              "4999 48.000          38.500            1\n",
              "\n",
              "[5000 rows x 3 columns]"
            ]
          },
          "metadata": {},
          "execution_count": 25
        }
      ]
    },
    {
      "cell_type": "code",
      "execution_count": 23,
      "metadata": {
        "colab": {
          "base_uri": "https://localhost:8080/"
        },
        "id": "FW69uk6H4Va6",
        "outputId": "5251cdf0-0043-468e-c3b9-2629a666edbc"
      },
      "outputs": [
        {
          "output_type": "execute_result",
          "data": {
            "text/plain": [
              "array([[-0.94953524,  3.45991194]])"
            ]
          },
          "metadata": {},
          "execution_count": 23
        }
      ],
      "source": [
        "log_model.coef_"
      ]
    },
    {
      "cell_type": "code",
      "execution_count": 24,
      "metadata": {
        "colab": {
          "base_uri": "https://localhost:8080/"
        },
        "id": "HU9MBfMa4Va6",
        "outputId": "b975b51f-c29b-471f-8708-07bf0f2a7ebd"
      },
      "outputs": [
        {
          "output_type": "execute_result",
          "data": {
            "text/plain": [
              "array([0.48867341])"
            ]
          },
          "metadata": {},
          "execution_count": 24
        }
      ],
      "source": [
        "log_model.intercept_"
      ]
    },
    {
      "cell_type": "code",
      "execution_count": 26,
      "metadata": {
        "colab": {
          "base_uri": "https://localhost:8080/",
          "height": 206
        },
        "id": "-UysaqsS4Va7",
        "outputId": "e383538e-7c9e-45af-e268-51d213059781"
      },
      "outputs": [
        {
          "output_type": "execute_result",
          "data": {
            "text/html": [
              "\n",
              "  <div id=\"df-ff52c183-6f20-44c8-b14f-877657926050\">\n",
              "    <div class=\"colab-df-container\">\n",
              "      <div>\n",
              "<style scoped>\n",
              "    .dataframe tbody tr th:only-of-type {\n",
              "        vertical-align: middle;\n",
              "    }\n",
              "\n",
              "    .dataframe tbody tr th {\n",
              "        vertical-align: top;\n",
              "    }\n",
              "\n",
              "    .dataframe thead th {\n",
              "        text-align: right;\n",
              "    }\n",
              "</style>\n",
              "<table border=\"1\" class=\"dataframe\">\n",
              "  <thead>\n",
              "    <tr style=\"text-align: right;\">\n",
              "      <th></th>\n",
              "      <th>age</th>\n",
              "      <th>physical_score</th>\n",
              "      <th>test_result</th>\n",
              "    </tr>\n",
              "  </thead>\n",
              "  <tbody>\n",
              "    <tr>\n",
              "      <th>0</th>\n",
              "      <td>33.000</td>\n",
              "      <td>40.700</td>\n",
              "      <td>1</td>\n",
              "    </tr>\n",
              "    <tr>\n",
              "      <th>1</th>\n",
              "      <td>50.000</td>\n",
              "      <td>37.200</td>\n",
              "      <td>1</td>\n",
              "    </tr>\n",
              "    <tr>\n",
              "      <th>2</th>\n",
              "      <td>52.000</td>\n",
              "      <td>24.700</td>\n",
              "      <td>0</td>\n",
              "    </tr>\n",
              "    <tr>\n",
              "      <th>3</th>\n",
              "      <td>56.000</td>\n",
              "      <td>31.000</td>\n",
              "      <td>0</td>\n",
              "    </tr>\n",
              "    <tr>\n",
              "      <th>4</th>\n",
              "      <td>35.000</td>\n",
              "      <td>42.900</td>\n",
              "      <td>1</td>\n",
              "    </tr>\n",
              "  </tbody>\n",
              "</table>\n",
              "</div>\n",
              "      <button class=\"colab-df-convert\" onclick=\"convertToInteractive('df-ff52c183-6f20-44c8-b14f-877657926050')\"\n",
              "              title=\"Convert this dataframe to an interactive table.\"\n",
              "              style=\"display:none;\">\n",
              "        \n",
              "  <svg xmlns=\"http://www.w3.org/2000/svg\" height=\"24px\"viewBox=\"0 0 24 24\"\n",
              "       width=\"24px\">\n",
              "    <path d=\"M0 0h24v24H0V0z\" fill=\"none\"/>\n",
              "    <path d=\"M18.56 5.44l.94 2.06.94-2.06 2.06-.94-2.06-.94-.94-2.06-.94 2.06-2.06.94zm-11 1L8.5 8.5l.94-2.06 2.06-.94-2.06-.94L8.5 2.5l-.94 2.06-2.06.94zm10 10l.94 2.06.94-2.06 2.06-.94-2.06-.94-.94-2.06-.94 2.06-2.06.94z\"/><path d=\"M17.41 7.96l-1.37-1.37c-.4-.4-.92-.59-1.43-.59-.52 0-1.04.2-1.43.59L10.3 9.45l-7.72 7.72c-.78.78-.78 2.05 0 2.83L4 21.41c.39.39.9.59 1.41.59.51 0 1.02-.2 1.41-.59l7.78-7.78 2.81-2.81c.8-.78.8-2.07 0-2.86zM5.41 20L4 18.59l7.72-7.72 1.47 1.35L5.41 20z\"/>\n",
              "  </svg>\n",
              "      </button>\n",
              "      \n",
              "  <style>\n",
              "    .colab-df-container {\n",
              "      display:flex;\n",
              "      flex-wrap:wrap;\n",
              "      gap: 12px;\n",
              "    }\n",
              "\n",
              "    .colab-df-convert {\n",
              "      background-color: #E8F0FE;\n",
              "      border: none;\n",
              "      border-radius: 50%;\n",
              "      cursor: pointer;\n",
              "      display: none;\n",
              "      fill: #1967D2;\n",
              "      height: 32px;\n",
              "      padding: 0 0 0 0;\n",
              "      width: 32px;\n",
              "    }\n",
              "\n",
              "    .colab-df-convert:hover {\n",
              "      background-color: #E2EBFA;\n",
              "      box-shadow: 0px 1px 2px rgba(60, 64, 67, 0.3), 0px 1px 3px 1px rgba(60, 64, 67, 0.15);\n",
              "      fill: #174EA6;\n",
              "    }\n",
              "\n",
              "    [theme=dark] .colab-df-convert {\n",
              "      background-color: #3B4455;\n",
              "      fill: #D2E3FC;\n",
              "    }\n",
              "\n",
              "    [theme=dark] .colab-df-convert:hover {\n",
              "      background-color: #434B5C;\n",
              "      box-shadow: 0px 1px 3px 1px rgba(0, 0, 0, 0.15);\n",
              "      filter: drop-shadow(0px 1px 2px rgba(0, 0, 0, 0.3));\n",
              "      fill: #FFFFFF;\n",
              "    }\n",
              "  </style>\n",
              "\n",
              "      <script>\n",
              "        const buttonEl =\n",
              "          document.querySelector('#df-ff52c183-6f20-44c8-b14f-877657926050 button.colab-df-convert');\n",
              "        buttonEl.style.display =\n",
              "          google.colab.kernel.accessAllowed ? 'block' : 'none';\n",
              "\n",
              "        async function convertToInteractive(key) {\n",
              "          const element = document.querySelector('#df-ff52c183-6f20-44c8-b14f-877657926050');\n",
              "          const dataTable =\n",
              "            await google.colab.kernel.invokeFunction('convertToInteractive',\n",
              "                                                     [key], {});\n",
              "          if (!dataTable) return;\n",
              "\n",
              "          const docLinkHtml = 'Like what you see? Visit the ' +\n",
              "            '<a target=\"_blank\" href=https://colab.research.google.com/notebooks/data_table.ipynb>data table notebook</a>'\n",
              "            + ' to learn more about interactive tables.';\n",
              "          element.innerHTML = '';\n",
              "          dataTable['output_type'] = 'display_data';\n",
              "          await google.colab.output.renderOutput(dataTable, element);\n",
              "          const docLink = document.createElement('div');\n",
              "          docLink.innerHTML = docLinkHtml;\n",
              "          element.appendChild(docLink);\n",
              "        }\n",
              "      </script>\n",
              "    </div>\n",
              "  </div>\n",
              "  "
            ],
            "text/plain": [
              "     age  physical_score  test_result\n",
              "0 33.000          40.700            1\n",
              "1 50.000          37.200            1\n",
              "2 52.000          24.700            0\n",
              "3 56.000          31.000            0\n",
              "4 35.000          42.900            1"
            ]
          },
          "metadata": {},
          "execution_count": 26
        }
      ],
      "source": [
        "df.head()"
      ]
    },
    {
      "cell_type": "code",
      "execution_count": 28,
      "metadata": {
        "colab": {
          "base_uri": "https://localhost:8080/"
        },
        "id": "-YvzGAmF4Va7",
        "outputId": "870d5bc7-89dc-4a42-ea9b-fbdc401b48d5"
      },
      "outputs": [
        {
          "output_type": "execute_result",
          "data": {
            "text/plain": [
              "array([1, 1, 0, 1, 0, 0, 1, 1, 0, 1, 1, 1, 1, 0, 1, 1, 0, 1, 1, 0, 0, 1,\n",
              "       0, 1, 1, 0, 1, 1, 0, 1, 1, 1, 1, 1, 1, 0, 1, 1, 0, 1, 1, 1, 1, 0,\n",
              "       0, 1, 1, 1, 1, 1, 1, 0, 0, 0, 1, 0, 1, 1, 1, 1, 1, 0, 1, 0, 1, 1,\n",
              "       0, 1, 1, 1, 1, 1, 1, 0, 1, 1, 1, 0, 0, 1, 1, 1, 1, 1, 0, 0, 1, 0,\n",
              "       0, 1, 1, 1, 0, 1, 0, 0, 0, 1, 1, 1, 1, 0, 0, 0, 1, 0, 1, 0, 0, 1,\n",
              "       1, 0, 0, 1, 0, 0, 0, 1, 1, 0, 1, 0, 0, 1, 1, 0, 1, 0, 1, 0, 1, 1,\n",
              "       1, 1, 0, 1, 1, 0, 0, 0, 0, 1, 0, 1, 1, 1, 0, 0, 0, 0, 1, 1, 0, 1,\n",
              "       1, 1, 0, 1, 0, 1, 1, 0, 1, 0, 1, 0, 1, 1, 0, 0, 1, 1, 0, 1, 1, 1,\n",
              "       1, 1, 0, 1, 0, 0, 1, 1, 1, 0, 1, 1, 0, 1, 1, 0, 0, 0, 1, 1, 1, 1,\n",
              "       0, 1, 1, 0, 1, 0, 1, 1, 1, 0, 1, 0, 1, 1, 0, 1, 0, 1, 1, 0, 0, 0,\n",
              "       1, 1, 0, 1, 1, 0, 0, 0, 1, 0, 0, 1, 0, 0, 1, 1, 1, 1, 1, 0, 1, 1,\n",
              "       1, 0, 0, 1, 0, 1, 1, 1, 0, 1, 1, 0, 1, 0, 1, 1, 1, 1, 1, 0, 0, 1,\n",
              "       1, 0, 1, 1, 0, 0, 1, 0, 1, 1, 1, 1, 0, 1, 1, 1, 1, 1, 1, 1, 0, 1,\n",
              "       1, 0, 0, 0, 0, 0, 1, 1, 1, 0, 1, 0, 1, 1, 1, 1, 0, 1, 0, 0, 1, 1,\n",
              "       1, 1, 1, 1, 0, 1, 1, 1, 1, 1, 0, 0, 0, 1, 0, 1, 1, 1, 0, 1, 1, 1,\n",
              "       0, 0, 0, 1, 0, 1, 1, 1, 1, 1, 0, 0, 1, 1, 1, 1, 1, 0, 1, 1, 0, 0,\n",
              "       1, 1, 1, 0, 1, 1, 0, 1, 0, 1, 0, 1, 1, 1, 1, 0, 1, 1, 1, 0, 0, 1,\n",
              "       1, 0, 1, 1, 1, 0, 1, 1, 1, 1, 0, 1, 1, 1, 1, 0, 1, 1, 1, 1, 1, 1,\n",
              "       0, 0, 1, 1, 1, 0, 0, 0, 1, 1, 0, 1, 0, 0, 1, 1, 0, 1, 1, 1, 1, 1,\n",
              "       0, 1, 1, 1, 0, 1, 1, 0, 0, 1, 0, 0, 0, 0, 1, 1, 1, 1, 1, 1, 0, 0,\n",
              "       1, 0, 1, 1, 1, 1, 1, 0, 1, 0, 1, 0, 0, 1, 1, 1, 0, 0, 1, 1, 0, 1,\n",
              "       1, 1, 1, 1, 1, 1, 0, 1, 0, 1, 1, 1, 1, 1, 1, 0, 1, 0, 1, 1, 0, 0,\n",
              "       1, 0, 1, 1, 0, 1, 0, 0, 1, 1, 1, 1, 1, 0, 0, 0])"
            ]
          },
          "metadata": {},
          "execution_count": 28
        }
      ],
      "source": [
        "y_pred = log_model.predict(X_test_scaled)  \n",
        "y_pred"
      ]
    },
    {
      "cell_type": "code",
      "execution_count": 30,
      "metadata": {
        "colab": {
          "base_uri": "https://localhost:8080/"
        },
        "id": "AJ4jn0yo4Va8",
        "outputId": "7daa11e5-4f68-42bf-fcb2-d16f1a4dcd80"
      },
      "outputs": [
        {
          "output_type": "execute_result",
          "data": {
            "text/plain": [
              "array([[2.38434328e-02, 9.76156567e-01],\n",
              "       [2.69240761e-02, 9.73075924e-01],\n",
              "       [9.89194168e-01, 1.08058325e-02],\n",
              "       [1.90768955e-03, 9.98092310e-01],\n",
              "       [9.75012619e-01, 2.49873806e-02],\n",
              "       [9.89652504e-01, 1.03474957e-02],\n",
              "       [7.40226674e-02, 9.25977333e-01],\n",
              "       [1.70943342e-02, 9.82905666e-01],\n",
              "       [9.97066033e-01, 2.93396692e-03],\n",
              "       [3.30521615e-02, 9.66947839e-01],\n",
              "       [8.31035903e-02, 9.16896410e-01],\n",
              "       [9.92865306e-03, 9.90071347e-01],\n",
              "       [7.08965218e-03, 9.92910348e-01],\n",
              "       [9.34236379e-01, 6.57636209e-02],\n",
              "       [1.16594927e-04, 9.99883405e-01],\n",
              "       [6.58904151e-02, 9.34109585e-01],\n",
              "       [9.89126706e-01, 1.08732938e-02],\n",
              "       [2.80051357e-03, 9.97199486e-01],\n",
              "       [5.58920624e-04, 9.99441079e-01],\n",
              "       [9.96523291e-01, 3.47670946e-03],\n",
              "       [8.81757060e-01, 1.18242940e-01],\n",
              "       [1.31030473e-01, 8.68969527e-01],\n",
              "       [5.45646751e-01, 4.54353249e-01],\n",
              "       [3.44064171e-02, 9.65593583e-01],\n",
              "       [3.98386430e-01, 6.01613570e-01],\n",
              "       [5.35437626e-01, 4.64562374e-01],\n",
              "       [3.89992054e-02, 9.61000795e-01],\n",
              "       [1.92947037e-02, 9.80705296e-01],\n",
              "       [9.12948170e-01, 8.70518303e-02],\n",
              "       [2.96787891e-04, 9.99703212e-01],\n",
              "       [4.58669888e-02, 9.54133011e-01],\n",
              "       [2.17209875e-03, 9.97827901e-01],\n",
              "       [1.77753726e-02, 9.82224627e-01],\n",
              "       [6.24150798e-03, 9.93758492e-01],\n",
              "       [4.40443721e-02, 9.55955628e-01],\n",
              "       [9.69351517e-01, 3.06484833e-02],\n",
              "       [6.57522444e-02, 9.34247756e-01],\n",
              "       [2.80712850e-02, 9.71928715e-01],\n",
              "       [9.88216425e-01, 1.17835749e-02],\n",
              "       [4.58080211e-02, 9.54191979e-01],\n",
              "       [6.24708551e-03, 9.93752914e-01],\n",
              "       [3.89217026e-01, 6.10782974e-01],\n",
              "       [3.68916971e-01, 6.31083029e-01],\n",
              "       [5.77657072e-01, 4.22342928e-01],\n",
              "       [9.99689730e-01, 3.10270210e-04],\n",
              "       [6.31385917e-02, 9.36861408e-01],\n",
              "       [6.58351145e-02, 9.34164886e-01],\n",
              "       [1.63736814e-02, 9.83626319e-01],\n",
              "       [5.60582137e-02, 9.43941786e-01],\n",
              "       [1.35624393e-01, 8.64375607e-01],\n",
              "       [1.80906316e-01, 8.19093684e-01],\n",
              "       [6.18665447e-01, 3.81334553e-01],\n",
              "       [5.89720471e-01, 4.10279529e-01],\n",
              "       [8.73012100e-01, 1.26987900e-01],\n",
              "       [4.62974157e-03, 9.95370258e-01],\n",
              "       [7.98118309e-01, 2.01881691e-01],\n",
              "       [3.73094351e-02, 9.62690565e-01],\n",
              "       [4.28310202e-03, 9.95716898e-01],\n",
              "       [1.91025841e-03, 9.98089742e-01],\n",
              "       [1.94393517e-01, 8.05606483e-01],\n",
              "       [3.02976809e-01, 6.97023191e-01],\n",
              "       [8.11179160e-01, 1.88820840e-01],\n",
              "       [7.66989976e-02, 9.23301002e-01],\n",
              "       [9.97999524e-01, 2.00047597e-03],\n",
              "       [2.26812376e-03, 9.97731876e-01],\n",
              "       [5.83970402e-02, 9.41602960e-01],\n",
              "       [9.96400556e-01, 3.59944447e-03],\n",
              "       [3.44512376e-02, 9.65548762e-01],\n",
              "       [1.30877036e-01, 8.69122964e-01],\n",
              "       [4.40443721e-02, 9.55955628e-01],\n",
              "       [5.05150750e-03, 9.94948493e-01],\n",
              "       [2.92148778e-02, 9.70785122e-01],\n",
              "       [3.30809000e-02, 9.66919100e-01],\n",
              "       [9.86583741e-01, 1.34162586e-02],\n",
              "       [1.07654969e-02, 9.89234503e-01],\n",
              "       [1.57176506e-02, 9.84282349e-01],\n",
              "       [1.68474104e-01, 8.31525896e-01],\n",
              "       [9.96382782e-01, 3.61721817e-03],\n",
              "       [9.65392767e-01, 3.46072328e-02],\n",
              "       [1.64026590e-02, 9.83597341e-01],\n",
              "       [1.36210935e-03, 9.98637891e-01],\n",
              "       [1.21883276e-02, 9.87811672e-01],\n",
              "       [1.17522686e-01, 8.82477314e-01],\n",
              "       [4.73410477e-01, 5.26589523e-01],\n",
              "       [9.85470136e-01, 1.45298643e-02],\n",
              "       [9.87191203e-01, 1.28087967e-02],\n",
              "       [1.75024379e-01, 8.24975621e-01],\n",
              "       [8.24494120e-01, 1.75505880e-01],\n",
              "       [9.91148707e-01, 8.85129287e-03],\n",
              "       [3.92348277e-03, 9.96076517e-01],\n",
              "       [3.79490149e-01, 6.20509851e-01],\n",
              "       [2.91769389e-03, 9.97082306e-01],\n",
              "       [9.99965861e-01, 3.41387033e-05],\n",
              "       [8.55830979e-04, 9.99144169e-01],\n",
              "       [8.47674108e-01, 1.52325892e-01],\n",
              "       [5.87544000e-01, 4.12456000e-01],\n",
              "       [9.60858860e-01, 3.91411398e-02],\n",
              "       [3.61493171e-03, 9.96385068e-01],\n",
              "       [8.98805096e-02, 9.10119490e-01],\n",
              "       [1.09041894e-01, 8.90958106e-01],\n",
              "       [3.05204476e-03, 9.96947955e-01],\n",
              "       [8.94064679e-01, 1.05935321e-01],\n",
              "       [9.97522039e-01, 2.47796116e-03],\n",
              "       [9.74880892e-01, 2.51191075e-02],\n",
              "       [1.87556689e-01, 8.12443311e-01],\n",
              "       [9.55796177e-01, 4.42038234e-02],\n",
              "       [3.73578910e-02, 9.62642109e-01],\n",
              "       [9.99647123e-01, 3.52876685e-04],\n",
              "       [9.95338230e-01, 4.66177048e-03],\n",
              "       [2.01235552e-02, 9.79876445e-01],\n",
              "       [1.37965852e-02, 9.86203415e-01],\n",
              "       [9.99893212e-01, 1.06787605e-04],\n",
              "       [9.76026390e-01, 2.39736101e-02],\n",
              "       [3.60330651e-01, 6.39669349e-01],\n",
              "       [9.47906266e-01, 5.20937344e-02],\n",
              "       [8.41332362e-01, 1.58667638e-01],\n",
              "       [9.98742212e-01, 1.25778815e-03],\n",
              "       [4.51412104e-01, 5.48587896e-01],\n",
              "       [1.51202826e-01, 8.48797174e-01],\n",
              "       [9.86625318e-01, 1.33746821e-02],\n",
              "       [1.50674796e-02, 9.84932520e-01],\n",
              "       [9.99887626e-01, 1.12373898e-04],\n",
              "       [9.98312205e-01, 1.68779513e-03],\n",
              "       [2.86083953e-01, 7.13916047e-01],\n",
              "       [1.70415563e-02, 9.82958444e-01],\n",
              "       [7.46763431e-01, 2.53236569e-01],\n",
              "       [2.27015871e-03, 9.97729841e-01],\n",
              "       [9.96683708e-01, 3.31629163e-03],\n",
              "       [1.51607018e-01, 8.48392982e-01],\n",
              "       [7.70165018e-01, 2.29834982e-01],\n",
              "       [1.10484619e-03, 9.98895154e-01],\n",
              "       [1.76054154e-03, 9.98239458e-01],\n",
              "       [4.57883813e-02, 9.54211619e-01],\n",
              "       [3.03261610e-01, 6.96738390e-01],\n",
              "       [9.19763138e-01, 8.02368616e-02],\n",
              "       [2.29007733e-01, 7.70992267e-01],\n",
              "       [1.61600076e-03, 9.98383999e-01],\n",
              "       [6.07957466e-01, 3.92042534e-01],\n",
              "       [7.76659879e-01, 2.23340121e-01],\n",
              "       [9.92275147e-01, 7.72485268e-03],\n",
              "       [9.99676714e-01, 3.23286453e-04],\n",
              "       [4.58276690e-02, 9.54172331e-01],\n",
              "       [7.54125008e-01, 2.45874992e-01],\n",
              "       [1.17292094e-02, 9.88270791e-01],\n",
              "       [1.36272081e-03, 9.98637279e-01],\n",
              "       [1.87488216e-01, 8.12511784e-01],\n",
              "       [9.93729401e-01, 6.27059905e-03],\n",
              "       [9.38879189e-01, 6.11208108e-02],\n",
              "       [9.99912895e-01, 8.71053253e-05],\n",
              "       [5.03991755e-01, 4.96008245e-01],\n",
              "       [4.72066236e-01, 5.27933764e-01],\n",
              "       [1.21805470e-01, 8.78194530e-01],\n",
              "       [9.76939330e-01, 2.30606703e-02],\n",
              "       [3.09377673e-04, 9.99690622e-01],\n",
              "       [1.75154200e-01, 8.24845800e-01],\n",
              "       [4.58276690e-02, 9.54172331e-01],\n",
              "       [5.35996531e-01, 4.64003469e-01],\n",
              "       [5.16646179e-02, 9.48335382e-01],\n",
              "       [9.99485769e-01, 5.14231028e-04],\n",
              "       [5.38993026e-02, 9.46100697e-01],\n",
              "       [2.80345237e-02, 9.71965476e-01],\n",
              "       [9.94729589e-01, 5.27041098e-03],\n",
              "       [8.72829908e-03, 9.91271701e-01],\n",
              "       [8.03528074e-01, 1.96471926e-01],\n",
              "       [4.40699870e-01, 5.59300130e-01],\n",
              "       [9.78804794e-01, 2.11952062e-02],\n",
              "       [1.41168696e-01, 8.58831304e-01],\n",
              "       [7.07700890e-03, 9.92922991e-01],\n",
              "       [5.67486919e-01, 4.32513081e-01],\n",
              "       [9.98171126e-01, 1.82887405e-03],\n",
              "       [1.78067860e-02, 9.82193214e-01],\n",
              "       [4.22545805e-02, 9.57745419e-01],\n",
              "       [9.77080653e-01, 2.29193469e-02],\n",
              "       [4.38555348e-02, 9.56144465e-01],\n",
              "       [1.50275146e-02, 9.84972485e-01],\n",
              "       [6.34850665e-02, 9.36514933e-01],\n",
              "       [2.47306474e-03, 9.97526935e-01],\n",
              "       [3.04699141e-02, 9.69530086e-01],\n",
              "       [9.55510483e-01, 4.44895171e-02],\n",
              "       [4.94164462e-01, 5.05835538e-01],\n",
              "       [6.48329969e-01, 3.51670031e-01],\n",
              "       [9.91964337e-01, 8.03566260e-03],\n",
              "       [1.07463693e-02, 9.89253631e-01],\n",
              "       [1.12171879e-02, 9.88782812e-01],\n",
              "       [2.35884617e-03, 9.97641154e-01],\n",
              "       [9.83543512e-01, 1.64564884e-02],\n",
              "       [3.77112243e-03, 9.96228878e-01],\n",
              "       [1.57246049e-02, 9.84275395e-01],\n",
              "       [5.98549265e-01, 4.01450735e-01],\n",
              "       [1.38701564e-02, 9.86129844e-01],\n",
              "       [1.94182462e-01, 8.05817538e-01],\n",
              "       [9.99897605e-01, 1.02395133e-04],\n",
              "       [7.98045887e-01, 2.01954113e-01],\n",
              "       [6.77776043e-01, 3.22223957e-01],\n",
              "       [1.57446875e-01, 8.42553125e-01],\n",
              "       [3.30529956e-03, 9.96694700e-01],\n",
              "       [1.01408343e-03, 9.98985917e-01],\n",
              "       [2.16820601e-03, 9.97831794e-01],\n",
              "       [6.38382621e-01, 3.61617379e-01],\n",
              "       [9.09935194e-03, 9.90900648e-01],\n",
              "       [1.46338809e-01, 8.53661191e-01],\n",
              "       [9.86096536e-01, 1.39034638e-02],\n",
              "       [2.20797623e-04, 9.99779202e-01],\n",
              "       [9.99389822e-01, 6.10178074e-04],\n",
              "       [1.21469354e-01, 8.78530646e-01],\n",
              "       [1.87488216e-01, 8.12511784e-01],\n",
              "       [2.69594217e-02, 9.73040578e-01],\n",
              "       [9.99677004e-01, 3.22996097e-04],\n",
              "       [8.00575462e-02, 9.19942454e-01],\n",
              "       [9.91238931e-01, 8.76106937e-03],\n",
              "       [6.10339228e-04, 9.99389661e-01],\n",
              "       [2.10242182e-02, 9.78975782e-01],\n",
              "       [8.47325602e-01, 1.52674398e-01],\n",
              "       [4.09365143e-01, 5.90634857e-01],\n",
              "       [5.56261410e-01, 4.43738590e-01],\n",
              "       [3.99571875e-01, 6.00428125e-01],\n",
              "       [1.21517322e-01, 8.78482678e-01],\n",
              "       [9.53670338e-01, 4.63296618e-02],\n",
              "       [8.77789554e-01, 1.22210446e-01],\n",
              "       [9.99305437e-01, 6.94563056e-04],\n",
              "       [1.57385225e-02, 9.84261477e-01],\n",
              "       [1.12621385e-02, 9.88737861e-01],\n",
              "       [9.90423126e-01, 9.57687351e-03],\n",
              "       [1.63038602e-01, 8.36961398e-01],\n",
              "       [1.07750734e-02, 9.89224927e-01],\n",
              "       [9.81407299e-01, 1.85927006e-02],\n",
              "       [7.61993640e-01, 2.38006360e-01],\n",
              "       [9.88195473e-01, 1.18045266e-02],\n",
              "       [2.93554114e-02, 9.70644589e-01],\n",
              "       [9.96952858e-01, 3.04714233e-03],\n",
              "       [9.88237340e-01, 1.17626599e-02],\n",
              "       [2.38120725e-02, 9.76187927e-01],\n",
              "       [7.84166052e-01, 2.15833948e-01],\n",
              "       [9.06035486e-01, 9.39645139e-02],\n",
              "       [1.38173500e-04, 9.99861826e-01],\n",
              "       [1.94323146e-01, 8.05676854e-01],\n",
              "       [5.36181414e-04, 9.99463819e-01],\n",
              "       [2.79978092e-02, 9.72002191e-01],\n",
              "       [7.13729033e-02, 9.28627097e-01],\n",
              "       [9.41369934e-01, 5.86300658e-02],\n",
              "       [5.98094199e-03, 9.94019058e-01],\n",
              "       [6.85235323e-02, 9.31476468e-01],\n",
              "       [1.32894815e-02, 9.86710519e-01],\n",
              "       [5.25310785e-01, 4.74689215e-01],\n",
              "       [9.98562600e-01, 1.43740038e-03],\n",
              "       [3.03356578e-01, 6.96643422e-01],\n",
              "       [9.97304237e-01, 2.69576306e-03],\n",
              "       [1.27158654e-02, 9.87284135e-01],\n",
              "       [3.45588848e-03, 9.96544112e-01],\n",
              "       [1.44822442e-02, 9.85517756e-01],\n",
              "       [9.99969836e-01, 3.01643745e-05],\n",
              "       [5.16646179e-02, 9.48335382e-01],\n",
              "       [2.37494726e-02, 9.76250527e-01],\n",
              "       [9.50091356e-01, 4.99086439e-02],\n",
              "       [4.64426155e-03, 9.95355738e-01],\n",
              "       [9.96386020e-01, 3.61398010e-03],\n",
              "       [2.57773444e-03, 9.97422266e-01],\n",
              "       [2.68354277e-01, 7.31645723e-01],\n",
              "       [1.75089280e-01, 8.24910720e-01],\n",
              "       [2.38016280e-02, 9.76198372e-01],\n",
              "       [5.27651203e-03, 9.94723488e-01],\n",
              "       [8.41452313e-01, 1.58547687e-01],\n",
              "       [9.99360796e-01, 6.39203607e-04],\n",
              "       [1.51722664e-01, 8.48277336e-01],\n",
              "       [1.44566094e-02, 9.85543391e-01],\n",
              "       [9.96801121e-01, 3.19887864e-03],\n",
              "       [2.38225215e-02, 9.76177479e-01],\n",
              "       [3.31325168e-01, 6.68674832e-01],\n",
              "       [9.90837983e-01, 9.16201735e-03],\n",
              "       [9.94452902e-01, 5.54709840e-03],\n",
              "       [3.43616528e-02, 9.65638347e-01],\n",
              "       [9.90038548e-01, 9.96145154e-03],\n",
              "       [8.63255322e-02, 9.13674468e-01],\n",
              "       [1.17240011e-02, 9.88275999e-01],\n",
              "       [6.56143432e-02, 9.34385657e-01],\n",
              "       [6.30323394e-02, 9.36967661e-01],\n",
              "       [9.28435866e-01, 7.15641339e-02],\n",
              "       [1.84911882e-02, 9.81508812e-01],\n",
              "       [5.74401008e-03, 9.94255990e-01],\n",
              "       [2.28348383e-02, 9.77165162e-01],\n",
              "       [1.17396329e-02, 9.88260367e-01],\n",
              "       [2.92021344e-02, 9.70797866e-01],\n",
              "       [5.60819997e-02, 9.43918000e-01],\n",
              "       [1.22262619e-02, 9.87773738e-01],\n",
              "       [9.97305445e-01, 2.69455507e-03],\n",
              "       [3.79913551e-01, 6.20086449e-01],\n",
              "       [2.37807525e-02, 9.76219248e-01],\n",
              "       [9.93977738e-01, 6.02226205e-03],\n",
              "       [9.99564880e-01, 4.35120206e-04],\n",
              "       [9.99770413e-01, 2.29587471e-04],\n",
              "       [9.47928453e-01, 5.20715467e-02],\n",
              "       [7.21026823e-01, 2.78973177e-01],\n",
              "       [8.02702642e-03, 9.91972974e-01],\n",
              "       [1.36333254e-03, 9.98636667e-01],\n",
              "       [1.63038602e-01, 8.36961398e-01],\n",
              "       [5.67155967e-01, 4.32844033e-01],\n",
              "       [2.68441479e-03, 9.97315585e-01],\n",
              "       [9.95501052e-01, 4.49894823e-03],\n",
              "       [6.50753770e-03, 9.93492462e-01],\n",
              "       [4.26970634e-03, 9.95730294e-01],\n",
              "       [1.41059757e-01, 8.58940243e-01],\n",
              "       [1.21469354e-01, 8.78530646e-01],\n",
              "       [5.04553485e-01, 4.95446515e-01],\n",
              "       [1.40842088e-01, 8.59157912e-01],\n",
              "       [9.25748684e-01, 7.42513163e-02],\n",
              "       [9.99674528e-01, 3.25472460e-04],\n",
              "       [3.12017112e-01, 6.87982888e-01],\n",
              "       [2.56735591e-03, 9.97432644e-01],\n",
              "       [9.50293373e-03, 9.90497066e-01],\n",
              "       [1.17240011e-02, 9.88275999e-01],\n",
              "       [2.18871864e-02, 9.78112814e-01],\n",
              "       [1.93620498e-01, 8.06379502e-01],\n",
              "       [9.99544792e-01, 4.55208348e-04],\n",
              "       [5.26237785e-03, 9.94737622e-01],\n",
              "       [2.77582080e-01, 7.22417920e-01],\n",
              "       [1.12122044e-02, 9.88787796e-01],\n",
              "       [1.21565306e-01, 8.78434694e-01],\n",
              "       [2.01324190e-02, 9.79867581e-01],\n",
              "       [6.84653443e-01, 3.15346557e-01],\n",
              "       [9.99912777e-01, 8.72228341e-05],\n",
              "       [9.99480662e-01, 5.19337882e-04],\n",
              "       [9.36431525e-02, 9.06356847e-01],\n",
              "       [9.97994133e-01, 2.00586670e-03],\n",
              "       [3.59398893e-01, 6.40601107e-01],\n",
              "       [3.80231222e-01, 6.19768778e-01],\n",
              "       [8.97335652e-02, 9.10266435e-01],\n",
              "       [7.22200490e-01, 2.77799510e-01],\n",
              "       [1.63447540e-02, 9.83655246e-01],\n",
              "       [2.67240981e-03, 9.97327590e-01],\n",
              "       [1.51722664e-01, 8.48277336e-01],\n",
              "       [9.45815534e-01, 5.41844663e-02],\n",
              "       [9.66479117e-01, 3.35208832e-02],\n",
              "       [9.93180522e-01, 6.81947820e-03],\n",
              "       [7.39303069e-02, 9.26069693e-01],\n",
              "       [9.97919485e-01, 2.08051509e-03],\n",
              "       [5.59869128e-02, 9.44013087e-01],\n",
              "       [4.09256485e-01, 5.90743515e-01],\n",
              "       [2.57886109e-02, 9.74211389e-01],\n",
              "       [1.80706619e-01, 8.19293381e-01],\n",
              "       [6.30323394e-02, 9.36967661e-01],\n",
              "       [9.99909117e-01, 9.08827972e-05],\n",
              "       [9.99066547e-01, 9.33453396e-04],\n",
              "       [2.28348383e-02, 9.77165162e-01],\n",
              "       [2.52352689e-01, 7.47647311e-01],\n",
              "       [8.01272498e-03, 9.91987275e-01],\n",
              "       [1.27045862e-02, 9.87295414e-01],\n",
              "       [3.89318877e-02, 9.61068112e-01],\n",
              "       [9.93444602e-01, 6.55539798e-03],\n",
              "       [4.85121496e-03, 9.95148785e-01],\n",
              "       [4.41011744e-02, 9.55898826e-01],\n",
              "       [6.76400399e-01, 3.23599601e-01],\n",
              "       [9.82857180e-01, 1.71428200e-02],\n",
              "       [9.28682621e-04, 9.99071317e-01],\n",
              "       [3.44661903e-02, 9.65533810e-01],\n",
              "       [1.17344200e-02, 9.88265580e-01],\n",
              "       [9.99981048e-01, 1.89517921e-05],\n",
              "       [2.56620532e-03, 9.97433795e-01],\n",
              "       [4.30593428e-01, 5.69406572e-01],\n",
              "       [9.99892972e-01, 1.07027810e-04],\n",
              "       [7.40843001e-02, 9.25915700e-01],\n",
              "       [9.99169928e-01, 8.30071811e-04],\n",
              "       [3.44362912e-02, 9.65563709e-01],\n",
              "       [8.77209840e-01, 1.22790160e-01],\n",
              "       [2.94646574e-01, 7.05353426e-01],\n",
              "       [6.34794303e-04, 9.99365206e-01],\n",
              "       [5.51148322e-03, 9.94488517e-01],\n",
              "       [3.76268976e-03, 9.96237310e-01],\n",
              "       [7.13235218e-01, 2.86764782e-01],\n",
              "       [5.39910467e-02, 9.46008953e-01],\n",
              "       [8.70499951e-03, 9.91295000e-01],\n",
              "       [2.86543118e-01, 7.13456882e-01],\n",
              "       [9.84216775e-01, 1.57832245e-02],\n",
              "       [9.96812565e-01, 3.18743484e-03],\n",
              "       [2.76951670e-01, 7.23048330e-01],\n",
              "       [6.83516200e-02, 9.31648380e-01],\n",
              "       [9.85444373e-01, 1.45556272e-02],\n",
              "       [1.50608115e-02, 9.84939188e-01],\n",
              "       [1.38640107e-02, 9.86135989e-01],\n",
              "       [2.44426913e-01, 7.55573087e-01],\n",
              "       [9.99905176e-01, 9.48240701e-05],\n",
              "       [4.93265771e-01, 5.06734229e-01],\n",
              "       [9.72407644e-04, 9.99027592e-01],\n",
              "       [4.51078247e-01, 5.48921753e-01],\n",
              "       [3.59228978e-02, 9.64077102e-01],\n",
              "       [9.99872421e-01, 1.27579095e-04],\n",
              "       [1.92777030e-02, 9.80722297e-01],\n",
              "       [2.69149168e-01, 7.30850832e-01],\n",
              "       [1.85401913e-02, 9.81459809e-01],\n",
              "       [4.76387719e-02, 9.52361228e-01],\n",
              "       [9.85521527e-01, 1.44784734e-02],\n",
              "       [4.58669888e-02, 9.54133011e-01],\n",
              "       [3.16804514e-02, 9.68319549e-01],\n",
              "       [1.46002273e-01, 8.53997727e-01],\n",
              "       [1.15270886e-03, 9.98847291e-01],\n",
              "       [3.04566404e-02, 9.69543360e-01],\n",
              "       [1.01021328e-01, 8.98978672e-01],\n",
              "       [9.16194733e-01, 8.38052671e-02],\n",
              "       [9.09588248e-01, 9.04117520e-02],\n",
              "       [3.18827450e-03, 9.96811725e-01],\n",
              "       [1.69814348e-02, 9.83018565e-01],\n",
              "       [5.04699197e-03, 9.94953008e-01],\n",
              "       [7.98118309e-01, 2.01881691e-01],\n",
              "       [9.72917555e-01, 2.70824454e-02],\n",
              "       [9.81333351e-01, 1.86666491e-02],\n",
              "       [5.59674275e-04, 9.99440326e-01],\n",
              "       [4.39309768e-02, 9.56069023e-01],\n",
              "       [9.33598454e-01, 6.64015458e-02],\n",
              "       [7.09866431e-02, 9.29013357e-01],\n",
              "       [9.30917525e-01, 6.90824753e-02],\n",
              "       [9.99926499e-01, 7.35014895e-05],\n",
              "       [1.63881639e-02, 9.83611836e-01],\n",
              "       [1.17292094e-02, 9.88270791e-01],\n",
              "       [8.86565146e-01, 1.13434854e-01],\n",
              "       [3.51115679e-01, 6.48884321e-01],\n",
              "       [6.84948525e-02, 9.31505148e-01],\n",
              "       [2.29563660e-01, 7.70436340e-01],\n",
              "       [3.58141058e-02, 9.64185894e-01],\n",
              "       [2.28147909e-02, 9.77185209e-01],\n",
              "       [9.19597149e-01, 8.04028505e-02],\n",
              "       [5.59869128e-02, 9.44013087e-01],\n",
              "       [1.17336376e-01, 8.82663624e-01],\n",
              "       [4.58080211e-02, 9.54191979e-01],\n",
              "       [9.97727385e-01, 2.27261534e-03],\n",
              "       [1.40950887e-01, 8.59049113e-01],\n",
              "       [3.83204593e-04, 9.99616795e-01],\n",
              "       [9.99580705e-01, 4.19294977e-04],\n",
              "       [9.99748268e-01, 2.51732142e-04],\n",
              "       [2.92531403e-02, 9.70746860e-01],\n",
              "       [9.99872936e-01, 1.27064177e-04],\n",
              "       [9.99211872e-01, 7.88127556e-04],\n",
              "       [5.26207233e-01, 4.73792767e-01],\n",
              "       [9.94904455e-01, 5.09554462e-03],\n",
              "       [2.86175751e-01, 7.13824249e-01],\n",
              "       [1.40679021e-01, 8.59320979e-01],\n",
              "       [3.31716512e-03, 9.96682835e-01],\n",
              "       [3.58451568e-02, 9.64154843e-01],\n",
              "       [7.39610820e-02, 9.26038918e-01],\n",
              "       [1.15270886e-03, 9.98847291e-01],\n",
              "       [9.98299283e-01, 1.70071741e-03],\n",
              "       [6.76990336e-01, 3.23009664e-01],\n",
              "       [1.68672621e-03, 9.98313274e-01],\n",
              "       [9.95152229e-01, 4.84777089e-03],\n",
              "       [2.84892191e-01, 7.15107809e-01],\n",
              "       [5.72863082e-03, 9.94271369e-01],\n",
              "       [3.75763918e-03, 9.96242361e-01],\n",
              "       [3.04964782e-02, 9.69503522e-01],\n",
              "       [1.87009450e-01, 8.12990550e-01],\n",
              "       [9.99888029e-01, 1.11970647e-04],\n",
              "       [3.93051449e-03, 9.96069486e-01],\n",
              "       [9.96947392e-01, 3.05260827e-03],\n",
              "       [3.04566404e-02, 9.69543360e-01],\n",
              "       [8.90852748e-01, 1.09147252e-01],\n",
              "       [7.04286393e-01, 2.95713607e-01],\n",
              "       [4.27735590e-03, 9.95722644e-01],\n",
              "       [1.57037512e-02, 9.84296249e-01],\n",
              "       [2.44343923e-01, 7.55656077e-01],\n",
              "       [9.97820670e-01, 2.17933050e-03],\n",
              "       [9.97908258e-01, 2.09174209e-03],\n",
              "       [7.70966860e-03, 9.92290331e-01],\n",
              "       [1.85565540e-02, 9.81443446e-01],\n",
              "       [9.99023474e-01, 9.76525550e-04],\n",
              "       [3.91997162e-03, 9.96080028e-01],\n",
              "       [2.47974405e-02, 9.75202560e-01],\n",
              "       [4.72066236e-01, 5.27933764e-01],\n",
              "       [3.58762338e-02, 9.64123766e-01],\n",
              "       [9.08720341e-03, 9.90912797e-01],\n",
              "       [1.27497622e-02, 9.87250238e-01],\n",
              "       [1.27328027e-02, 9.87267197e-01],\n",
              "       [9.80513777e-01, 1.94862227e-02],\n",
              "       [6.51044391e-03, 9.93489556e-01],\n",
              "       [7.20574604e-01, 2.79425396e-01],\n",
              "       [1.30877036e-01, 8.69122964e-01],\n",
              "       [1.17344200e-02, 9.88265580e-01],\n",
              "       [1.93543222e-02, 9.80645678e-01],\n",
              "       [1.12785106e-01, 8.87214894e-01],\n",
              "       [6.77272553e-03, 9.93227274e-01],\n",
              "       [4.08928814e-03, 9.95910712e-01],\n",
              "       [9.70498098e-01, 2.95019021e-02],\n",
              "       [7.53896333e-04, 9.99246104e-01],\n",
              "       [9.55720163e-01, 4.42798369e-02],\n",
              "       [1.17522686e-01, 8.82477314e-01],\n",
              "       [8.76726912e-03, 9.91232731e-01],\n",
              "       [7.20845989e-01, 2.79154011e-01],\n",
              "       [8.47848116e-01, 1.52151884e-01],\n",
              "       [1.93628539e-02, 9.80637146e-01],\n",
              "       [9.99788719e-01, 2.11280597e-04],\n",
              "       [2.68770188e-02, 9.73122981e-01],\n",
              "       [2.10149702e-02, 9.78985030e-01],\n",
              "       [9.98515084e-01, 1.48491558e-03],\n",
              "       [1.81239526e-01, 8.18760474e-01],\n",
              "       [9.38879189e-01, 6.11208108e-02],\n",
              "       [7.76425926e-01, 2.23574074e-01],\n",
              "       [5.16426030e-02, 9.48357397e-01],\n",
              "       [1.83593337e-03, 9.98164067e-01],\n",
              "       [7.38826658e-03, 9.92611733e-01],\n",
              "       [4.40065427e-02, 9.55993457e-01],\n",
              "       [1.86804552e-01, 8.13195448e-01],\n",
              "       [9.80608008e-01, 1.93919921e-02],\n",
              "       [9.94715433e-01, 5.28456663e-03],\n",
              "       [9.31493331e-01, 6.85066687e-02]])"
            ]
          },
          "metadata": {},
          "execution_count": 30
        }
      ],
      "source": [
        "y_pred_proba = log_model.predict_proba(X_test_scaled)  #predicted probabilities 0 da olma ve 1 de olma olsiligi\n",
        "y_pred_proba"
      ]
    },
    {
      "cell_type": "markdown",
      "metadata": {
        "id": "KPejlGz_4Va8"
      },
      "source": [
        "## X_test + y_yest + y_pred + y_pred_proba"
      ]
    },
    {
      "cell_type": "code",
      "execution_count": 31,
      "metadata": {
        "colab": {
          "base_uri": "https://localhost:8080/",
          "height": 423
        },
        "id": "ESV0ZgYt4Va9",
        "outputId": "13f37c25-478f-4e5d-9998-8241ef766c45"
      },
      "outputs": [
        {
          "output_type": "execute_result",
          "data": {
            "text/html": [
              "\n",
              "  <div id=\"df-fc3f7d5a-95f2-4fb7-aa00-a82057fffd7d\">\n",
              "    <div class=\"colab-df-container\">\n",
              "      <div>\n",
              "<style scoped>\n",
              "    .dataframe tbody tr th:only-of-type {\n",
              "        vertical-align: middle;\n",
              "    }\n",
              "\n",
              "    .dataframe tbody tr th {\n",
              "        vertical-align: top;\n",
              "    }\n",
              "\n",
              "    .dataframe thead th {\n",
              "        text-align: right;\n",
              "    }\n",
              "</style>\n",
              "<table border=\"1\" class=\"dataframe\">\n",
              "  <thead>\n",
              "    <tr style=\"text-align: right;\">\n",
              "      <th></th>\n",
              "      <th>age</th>\n",
              "      <th>physical_score</th>\n",
              "      <th>test_result</th>\n",
              "    </tr>\n",
              "  </thead>\n",
              "  <tbody>\n",
              "    <tr>\n",
              "      <th>1718</th>\n",
              "      <td>39.000</td>\n",
              "      <td>37.800</td>\n",
              "      <td>1</td>\n",
              "    </tr>\n",
              "    <tr>\n",
              "      <th>2511</th>\n",
              "      <td>45.000</td>\n",
              "      <td>38.700</td>\n",
              "      <td>1</td>\n",
              "    </tr>\n",
              "    <tr>\n",
              "      <th>345</th>\n",
              "      <td>56.000</td>\n",
              "      <td>21.800</td>\n",
              "      <td>0</td>\n",
              "    </tr>\n",
              "    <tr>\n",
              "      <th>2521</th>\n",
              "      <td>40.000</td>\n",
              "      <td>44.000</td>\n",
              "      <td>1</td>\n",
              "    </tr>\n",
              "    <tr>\n",
              "      <th>54</th>\n",
              "      <td>64.000</td>\n",
              "      <td>25.400</td>\n",
              "      <td>0</td>\n",
              "    </tr>\n",
              "    <tr>\n",
              "      <th>...</th>\n",
              "      <td>...</td>\n",
              "      <td>...</td>\n",
              "      <td>...</td>\n",
              "    </tr>\n",
              "    <tr>\n",
              "      <th>4770</th>\n",
              "      <td>46.000</td>\n",
              "      <td>37.700</td>\n",
              "      <td>1</td>\n",
              "    </tr>\n",
              "    <tr>\n",
              "      <th>188</th>\n",
              "      <td>59.000</td>\n",
              "      <td>36.500</td>\n",
              "      <td>1</td>\n",
              "    </tr>\n",
              "    <tr>\n",
              "      <th>3335</th>\n",
              "      <td>54.000</td>\n",
              "      <td>22.800</td>\n",
              "      <td>0</td>\n",
              "    </tr>\n",
              "    <tr>\n",
              "      <th>4583</th>\n",
              "      <td>58.000</td>\n",
              "      <td>20.500</td>\n",
              "      <td>0</td>\n",
              "    </tr>\n",
              "    <tr>\n",
              "      <th>3208</th>\n",
              "      <td>48.000</td>\n",
              "      <td>24.700</td>\n",
              "      <td>0</td>\n",
              "    </tr>\n",
              "  </tbody>\n",
              "</table>\n",
              "<p>500 rows × 3 columns</p>\n",
              "</div>\n",
              "      <button class=\"colab-df-convert\" onclick=\"convertToInteractive('df-fc3f7d5a-95f2-4fb7-aa00-a82057fffd7d')\"\n",
              "              title=\"Convert this dataframe to an interactive table.\"\n",
              "              style=\"display:none;\">\n",
              "        \n",
              "  <svg xmlns=\"http://www.w3.org/2000/svg\" height=\"24px\"viewBox=\"0 0 24 24\"\n",
              "       width=\"24px\">\n",
              "    <path d=\"M0 0h24v24H0V0z\" fill=\"none\"/>\n",
              "    <path d=\"M18.56 5.44l.94 2.06.94-2.06 2.06-.94-2.06-.94-.94-2.06-.94 2.06-2.06.94zm-11 1L8.5 8.5l.94-2.06 2.06-.94-2.06-.94L8.5 2.5l-.94 2.06-2.06.94zm10 10l.94 2.06.94-2.06 2.06-.94-2.06-.94-.94-2.06-.94 2.06-2.06.94z\"/><path d=\"M17.41 7.96l-1.37-1.37c-.4-.4-.92-.59-1.43-.59-.52 0-1.04.2-1.43.59L10.3 9.45l-7.72 7.72c-.78.78-.78 2.05 0 2.83L4 21.41c.39.39.9.59 1.41.59.51 0 1.02-.2 1.41-.59l7.78-7.78 2.81-2.81c.8-.78.8-2.07 0-2.86zM5.41 20L4 18.59l7.72-7.72 1.47 1.35L5.41 20z\"/>\n",
              "  </svg>\n",
              "      </button>\n",
              "      \n",
              "  <style>\n",
              "    .colab-df-container {\n",
              "      display:flex;\n",
              "      flex-wrap:wrap;\n",
              "      gap: 12px;\n",
              "    }\n",
              "\n",
              "    .colab-df-convert {\n",
              "      background-color: #E8F0FE;\n",
              "      border: none;\n",
              "      border-radius: 50%;\n",
              "      cursor: pointer;\n",
              "      display: none;\n",
              "      fill: #1967D2;\n",
              "      height: 32px;\n",
              "      padding: 0 0 0 0;\n",
              "      width: 32px;\n",
              "    }\n",
              "\n",
              "    .colab-df-convert:hover {\n",
              "      background-color: #E2EBFA;\n",
              "      box-shadow: 0px 1px 2px rgba(60, 64, 67, 0.3), 0px 1px 3px 1px rgba(60, 64, 67, 0.15);\n",
              "      fill: #174EA6;\n",
              "    }\n",
              "\n",
              "    [theme=dark] .colab-df-convert {\n",
              "      background-color: #3B4455;\n",
              "      fill: #D2E3FC;\n",
              "    }\n",
              "\n",
              "    [theme=dark] .colab-df-convert:hover {\n",
              "      background-color: #434B5C;\n",
              "      box-shadow: 0px 1px 3px 1px rgba(0, 0, 0, 0.15);\n",
              "      filter: drop-shadow(0px 1px 2px rgba(0, 0, 0, 0.3));\n",
              "      fill: #FFFFFF;\n",
              "    }\n",
              "  </style>\n",
              "\n",
              "      <script>\n",
              "        const buttonEl =\n",
              "          document.querySelector('#df-fc3f7d5a-95f2-4fb7-aa00-a82057fffd7d button.colab-df-convert');\n",
              "        buttonEl.style.display =\n",
              "          google.colab.kernel.accessAllowed ? 'block' : 'none';\n",
              "\n",
              "        async function convertToInteractive(key) {\n",
              "          const element = document.querySelector('#df-fc3f7d5a-95f2-4fb7-aa00-a82057fffd7d');\n",
              "          const dataTable =\n",
              "            await google.colab.kernel.invokeFunction('convertToInteractive',\n",
              "                                                     [key], {});\n",
              "          if (!dataTable) return;\n",
              "\n",
              "          const docLinkHtml = 'Like what you see? Visit the ' +\n",
              "            '<a target=\"_blank\" href=https://colab.research.google.com/notebooks/data_table.ipynb>data table notebook</a>'\n",
              "            + ' to learn more about interactive tables.';\n",
              "          element.innerHTML = '';\n",
              "          dataTable['output_type'] = 'display_data';\n",
              "          await google.colab.output.renderOutput(dataTable, element);\n",
              "          const docLink = document.createElement('div');\n",
              "          docLink.innerHTML = docLinkHtml;\n",
              "          element.appendChild(docLink);\n",
              "        }\n",
              "      </script>\n",
              "    </div>\n",
              "  </div>\n",
              "  "
            ],
            "text/plain": [
              "        age  physical_score  test_result\n",
              "1718 39.000          37.800            1\n",
              "2511 45.000          38.700            1\n",
              "345  56.000          21.800            0\n",
              "2521 40.000          44.000            1\n",
              "54   64.000          25.400            0\n",
              "...     ...             ...          ...\n",
              "4770 46.000          37.700            1\n",
              "188  59.000          36.500            1\n",
              "3335 54.000          22.800            0\n",
              "4583 58.000          20.500            0\n",
              "3208 48.000          24.700            0\n",
              "\n",
              "[500 rows x 3 columns]"
            ]
          },
          "metadata": {},
          "execution_count": 31
        }
      ],
      "source": [
        "test_data = pd.concat([X_test, y_test], axis=1)\n",
        "test_data"
      ]
    },
    {
      "cell_type": "code",
      "execution_count": 32,
      "metadata": {
        "colab": {
          "base_uri": "https://localhost:8080/",
          "height": 423
        },
        "id": "h4tujYk84Va9",
        "outputId": "5d616a45-6edf-4d84-d24a-b9bcd21c5b00"
      },
      "outputs": [
        {
          "output_type": "execute_result",
          "data": {
            "text/html": [
              "\n",
              "  <div id=\"df-6da4a6cc-9b2e-48ef-beca-b17c74a1043a\">\n",
              "    <div class=\"colab-df-container\">\n",
              "      <div>\n",
              "<style scoped>\n",
              "    .dataframe tbody tr th:only-of-type {\n",
              "        vertical-align: middle;\n",
              "    }\n",
              "\n",
              "    .dataframe tbody tr th {\n",
              "        vertical-align: top;\n",
              "    }\n",
              "\n",
              "    .dataframe thead th {\n",
              "        text-align: right;\n",
              "    }\n",
              "</style>\n",
              "<table border=\"1\" class=\"dataframe\">\n",
              "  <thead>\n",
              "    <tr style=\"text-align: right;\">\n",
              "      <th></th>\n",
              "      <th>age</th>\n",
              "      <th>physical_score</th>\n",
              "      <th>test_result</th>\n",
              "      <th>pred_proba</th>\n",
              "    </tr>\n",
              "  </thead>\n",
              "  <tbody>\n",
              "    <tr>\n",
              "      <th>1718</th>\n",
              "      <td>39.000</td>\n",
              "      <td>37.800</td>\n",
              "      <td>1</td>\n",
              "      <td>0.976</td>\n",
              "    </tr>\n",
              "    <tr>\n",
              "      <th>2511</th>\n",
              "      <td>45.000</td>\n",
              "      <td>38.700</td>\n",
              "      <td>1</td>\n",
              "      <td>0.973</td>\n",
              "    </tr>\n",
              "    <tr>\n",
              "      <th>345</th>\n",
              "      <td>56.000</td>\n",
              "      <td>21.800</td>\n",
              "      <td>0</td>\n",
              "      <td>0.011</td>\n",
              "    </tr>\n",
              "    <tr>\n",
              "      <th>2521</th>\n",
              "      <td>40.000</td>\n",
              "      <td>44.000</td>\n",
              "      <td>1</td>\n",
              "      <td>0.998</td>\n",
              "    </tr>\n",
              "    <tr>\n",
              "      <th>54</th>\n",
              "      <td>64.000</td>\n",
              "      <td>25.400</td>\n",
              "      <td>0</td>\n",
              "      <td>0.025</td>\n",
              "    </tr>\n",
              "    <tr>\n",
              "      <th>...</th>\n",
              "      <td>...</td>\n",
              "      <td>...</td>\n",
              "      <td>...</td>\n",
              "      <td>...</td>\n",
              "    </tr>\n",
              "    <tr>\n",
              "      <th>4770</th>\n",
              "      <td>46.000</td>\n",
              "      <td>37.700</td>\n",
              "      <td>1</td>\n",
              "      <td>0.956</td>\n",
              "    </tr>\n",
              "    <tr>\n",
              "      <th>188</th>\n",
              "      <td>59.000</td>\n",
              "      <td>36.500</td>\n",
              "      <td>1</td>\n",
              "      <td>0.813</td>\n",
              "    </tr>\n",
              "    <tr>\n",
              "      <th>3335</th>\n",
              "      <td>54.000</td>\n",
              "      <td>22.800</td>\n",
              "      <td>0</td>\n",
              "      <td>0.019</td>\n",
              "    </tr>\n",
              "    <tr>\n",
              "      <th>4583</th>\n",
              "      <td>58.000</td>\n",
              "      <td>20.500</td>\n",
              "      <td>0</td>\n",
              "      <td>0.005</td>\n",
              "    </tr>\n",
              "    <tr>\n",
              "      <th>3208</th>\n",
              "      <td>48.000</td>\n",
              "      <td>24.700</td>\n",
              "      <td>0</td>\n",
              "      <td>0.069</td>\n",
              "    </tr>\n",
              "  </tbody>\n",
              "</table>\n",
              "<p>500 rows × 4 columns</p>\n",
              "</div>\n",
              "      <button class=\"colab-df-convert\" onclick=\"convertToInteractive('df-6da4a6cc-9b2e-48ef-beca-b17c74a1043a')\"\n",
              "              title=\"Convert this dataframe to an interactive table.\"\n",
              "              style=\"display:none;\">\n",
              "        \n",
              "  <svg xmlns=\"http://www.w3.org/2000/svg\" height=\"24px\"viewBox=\"0 0 24 24\"\n",
              "       width=\"24px\">\n",
              "    <path d=\"M0 0h24v24H0V0z\" fill=\"none\"/>\n",
              "    <path d=\"M18.56 5.44l.94 2.06.94-2.06 2.06-.94-2.06-.94-.94-2.06-.94 2.06-2.06.94zm-11 1L8.5 8.5l.94-2.06 2.06-.94-2.06-.94L8.5 2.5l-.94 2.06-2.06.94zm10 10l.94 2.06.94-2.06 2.06-.94-2.06-.94-.94-2.06-.94 2.06-2.06.94z\"/><path d=\"M17.41 7.96l-1.37-1.37c-.4-.4-.92-.59-1.43-.59-.52 0-1.04.2-1.43.59L10.3 9.45l-7.72 7.72c-.78.78-.78 2.05 0 2.83L4 21.41c.39.39.9.59 1.41.59.51 0 1.02-.2 1.41-.59l7.78-7.78 2.81-2.81c.8-.78.8-2.07 0-2.86zM5.41 20L4 18.59l7.72-7.72 1.47 1.35L5.41 20z\"/>\n",
              "  </svg>\n",
              "      </button>\n",
              "      \n",
              "  <style>\n",
              "    .colab-df-container {\n",
              "      display:flex;\n",
              "      flex-wrap:wrap;\n",
              "      gap: 12px;\n",
              "    }\n",
              "\n",
              "    .colab-df-convert {\n",
              "      background-color: #E8F0FE;\n",
              "      border: none;\n",
              "      border-radius: 50%;\n",
              "      cursor: pointer;\n",
              "      display: none;\n",
              "      fill: #1967D2;\n",
              "      height: 32px;\n",
              "      padding: 0 0 0 0;\n",
              "      width: 32px;\n",
              "    }\n",
              "\n",
              "    .colab-df-convert:hover {\n",
              "      background-color: #E2EBFA;\n",
              "      box-shadow: 0px 1px 2px rgba(60, 64, 67, 0.3), 0px 1px 3px 1px rgba(60, 64, 67, 0.15);\n",
              "      fill: #174EA6;\n",
              "    }\n",
              "\n",
              "    [theme=dark] .colab-df-convert {\n",
              "      background-color: #3B4455;\n",
              "      fill: #D2E3FC;\n",
              "    }\n",
              "\n",
              "    [theme=dark] .colab-df-convert:hover {\n",
              "      background-color: #434B5C;\n",
              "      box-shadow: 0px 1px 3px 1px rgba(0, 0, 0, 0.15);\n",
              "      filter: drop-shadow(0px 1px 2px rgba(0, 0, 0, 0.3));\n",
              "      fill: #FFFFFF;\n",
              "    }\n",
              "  </style>\n",
              "\n",
              "      <script>\n",
              "        const buttonEl =\n",
              "          document.querySelector('#df-6da4a6cc-9b2e-48ef-beca-b17c74a1043a button.colab-df-convert');\n",
              "        buttonEl.style.display =\n",
              "          google.colab.kernel.accessAllowed ? 'block' : 'none';\n",
              "\n",
              "        async function convertToInteractive(key) {\n",
              "          const element = document.querySelector('#df-6da4a6cc-9b2e-48ef-beca-b17c74a1043a');\n",
              "          const dataTable =\n",
              "            await google.colab.kernel.invokeFunction('convertToInteractive',\n",
              "                                                     [key], {});\n",
              "          if (!dataTable) return;\n",
              "\n",
              "          const docLinkHtml = 'Like what you see? Visit the ' +\n",
              "            '<a target=\"_blank\" href=https://colab.research.google.com/notebooks/data_table.ipynb>data table notebook</a>'\n",
              "            + ' to learn more about interactive tables.';\n",
              "          element.innerHTML = '';\n",
              "          dataTable['output_type'] = 'display_data';\n",
              "          await google.colab.output.renderOutput(dataTable, element);\n",
              "          const docLink = document.createElement('div');\n",
              "          docLink.innerHTML = docLinkHtml;\n",
              "          element.appendChild(docLink);\n",
              "        }\n",
              "      </script>\n",
              "    </div>\n",
              "  </div>\n",
              "  "
            ],
            "text/plain": [
              "        age  physical_score  test_result  pred_proba\n",
              "1718 39.000          37.800            1       0.976\n",
              "2511 45.000          38.700            1       0.973\n",
              "345  56.000          21.800            0       0.011\n",
              "2521 40.000          44.000            1       0.998\n",
              "54   64.000          25.400            0       0.025\n",
              "...     ...             ...          ...         ...\n",
              "4770 46.000          37.700            1       0.956\n",
              "188  59.000          36.500            1       0.813\n",
              "3335 54.000          22.800            0       0.019\n",
              "4583 58.000          20.500            0       0.005\n",
              "3208 48.000          24.700            0       0.069\n",
              "\n",
              "[500 rows x 4 columns]"
            ]
          },
          "metadata": {},
          "execution_count": 32
        }
      ],
      "source": [
        "test_data[\"pred_proba\"] = y_pred_proba[:,1]\n",
        "test_data"
      ]
    },
    {
      "cell_type": "code",
      "execution_count": 33,
      "metadata": {
        "colab": {
          "base_uri": "https://localhost:8080/",
          "height": 423
        },
        "id": "SAV33Zlx4Va-",
        "outputId": "2e0a41ea-7f43-42ca-a62f-042f3a7ae710"
      },
      "outputs": [
        {
          "output_type": "execute_result",
          "data": {
            "text/html": [
              "\n",
              "  <div id=\"df-ddc89fb7-5d72-4fc1-bd4d-ac80f19c5b04\">\n",
              "    <div class=\"colab-df-container\">\n",
              "      <div>\n",
              "<style scoped>\n",
              "    .dataframe tbody tr th:only-of-type {\n",
              "        vertical-align: middle;\n",
              "    }\n",
              "\n",
              "    .dataframe tbody tr th {\n",
              "        vertical-align: top;\n",
              "    }\n",
              "\n",
              "    .dataframe thead th {\n",
              "        text-align: right;\n",
              "    }\n",
              "</style>\n",
              "<table border=\"1\" class=\"dataframe\">\n",
              "  <thead>\n",
              "    <tr style=\"text-align: right;\">\n",
              "      <th></th>\n",
              "      <th>age</th>\n",
              "      <th>physical_score</th>\n",
              "      <th>test_result</th>\n",
              "      <th>pred_proba</th>\n",
              "      <th>pred</th>\n",
              "    </tr>\n",
              "  </thead>\n",
              "  <tbody>\n",
              "    <tr>\n",
              "      <th>1718</th>\n",
              "      <td>39.000</td>\n",
              "      <td>37.800</td>\n",
              "      <td>1</td>\n",
              "      <td>0.976</td>\n",
              "      <td>1</td>\n",
              "    </tr>\n",
              "    <tr>\n",
              "      <th>2511</th>\n",
              "      <td>45.000</td>\n",
              "      <td>38.700</td>\n",
              "      <td>1</td>\n",
              "      <td>0.973</td>\n",
              "      <td>1</td>\n",
              "    </tr>\n",
              "    <tr>\n",
              "      <th>345</th>\n",
              "      <td>56.000</td>\n",
              "      <td>21.800</td>\n",
              "      <td>0</td>\n",
              "      <td>0.011</td>\n",
              "      <td>0</td>\n",
              "    </tr>\n",
              "    <tr>\n",
              "      <th>2521</th>\n",
              "      <td>40.000</td>\n",
              "      <td>44.000</td>\n",
              "      <td>1</td>\n",
              "      <td>0.998</td>\n",
              "      <td>1</td>\n",
              "    </tr>\n",
              "    <tr>\n",
              "      <th>54</th>\n",
              "      <td>64.000</td>\n",
              "      <td>25.400</td>\n",
              "      <td>0</td>\n",
              "      <td>0.025</td>\n",
              "      <td>0</td>\n",
              "    </tr>\n",
              "    <tr>\n",
              "      <th>...</th>\n",
              "      <td>...</td>\n",
              "      <td>...</td>\n",
              "      <td>...</td>\n",
              "      <td>...</td>\n",
              "      <td>...</td>\n",
              "    </tr>\n",
              "    <tr>\n",
              "      <th>4770</th>\n",
              "      <td>46.000</td>\n",
              "      <td>37.700</td>\n",
              "      <td>1</td>\n",
              "      <td>0.956</td>\n",
              "      <td>1</td>\n",
              "    </tr>\n",
              "    <tr>\n",
              "      <th>188</th>\n",
              "      <td>59.000</td>\n",
              "      <td>36.500</td>\n",
              "      <td>1</td>\n",
              "      <td>0.813</td>\n",
              "      <td>1</td>\n",
              "    </tr>\n",
              "    <tr>\n",
              "      <th>3335</th>\n",
              "      <td>54.000</td>\n",
              "      <td>22.800</td>\n",
              "      <td>0</td>\n",
              "      <td>0.019</td>\n",
              "      <td>0</td>\n",
              "    </tr>\n",
              "    <tr>\n",
              "      <th>4583</th>\n",
              "      <td>58.000</td>\n",
              "      <td>20.500</td>\n",
              "      <td>0</td>\n",
              "      <td>0.005</td>\n",
              "      <td>0</td>\n",
              "    </tr>\n",
              "    <tr>\n",
              "      <th>3208</th>\n",
              "      <td>48.000</td>\n",
              "      <td>24.700</td>\n",
              "      <td>0</td>\n",
              "      <td>0.069</td>\n",
              "      <td>0</td>\n",
              "    </tr>\n",
              "  </tbody>\n",
              "</table>\n",
              "<p>500 rows × 5 columns</p>\n",
              "</div>\n",
              "      <button class=\"colab-df-convert\" onclick=\"convertToInteractive('df-ddc89fb7-5d72-4fc1-bd4d-ac80f19c5b04')\"\n",
              "              title=\"Convert this dataframe to an interactive table.\"\n",
              "              style=\"display:none;\">\n",
              "        \n",
              "  <svg xmlns=\"http://www.w3.org/2000/svg\" height=\"24px\"viewBox=\"0 0 24 24\"\n",
              "       width=\"24px\">\n",
              "    <path d=\"M0 0h24v24H0V0z\" fill=\"none\"/>\n",
              "    <path d=\"M18.56 5.44l.94 2.06.94-2.06 2.06-.94-2.06-.94-.94-2.06-.94 2.06-2.06.94zm-11 1L8.5 8.5l.94-2.06 2.06-.94-2.06-.94L8.5 2.5l-.94 2.06-2.06.94zm10 10l.94 2.06.94-2.06 2.06-.94-2.06-.94-.94-2.06-.94 2.06-2.06.94z\"/><path d=\"M17.41 7.96l-1.37-1.37c-.4-.4-.92-.59-1.43-.59-.52 0-1.04.2-1.43.59L10.3 9.45l-7.72 7.72c-.78.78-.78 2.05 0 2.83L4 21.41c.39.39.9.59 1.41.59.51 0 1.02-.2 1.41-.59l7.78-7.78 2.81-2.81c.8-.78.8-2.07 0-2.86zM5.41 20L4 18.59l7.72-7.72 1.47 1.35L5.41 20z\"/>\n",
              "  </svg>\n",
              "      </button>\n",
              "      \n",
              "  <style>\n",
              "    .colab-df-container {\n",
              "      display:flex;\n",
              "      flex-wrap:wrap;\n",
              "      gap: 12px;\n",
              "    }\n",
              "\n",
              "    .colab-df-convert {\n",
              "      background-color: #E8F0FE;\n",
              "      border: none;\n",
              "      border-radius: 50%;\n",
              "      cursor: pointer;\n",
              "      display: none;\n",
              "      fill: #1967D2;\n",
              "      height: 32px;\n",
              "      padding: 0 0 0 0;\n",
              "      width: 32px;\n",
              "    }\n",
              "\n",
              "    .colab-df-convert:hover {\n",
              "      background-color: #E2EBFA;\n",
              "      box-shadow: 0px 1px 2px rgba(60, 64, 67, 0.3), 0px 1px 3px 1px rgba(60, 64, 67, 0.15);\n",
              "      fill: #174EA6;\n",
              "    }\n",
              "\n",
              "    [theme=dark] .colab-df-convert {\n",
              "      background-color: #3B4455;\n",
              "      fill: #D2E3FC;\n",
              "    }\n",
              "\n",
              "    [theme=dark] .colab-df-convert:hover {\n",
              "      background-color: #434B5C;\n",
              "      box-shadow: 0px 1px 3px 1px rgba(0, 0, 0, 0.15);\n",
              "      filter: drop-shadow(0px 1px 2px rgba(0, 0, 0, 0.3));\n",
              "      fill: #FFFFFF;\n",
              "    }\n",
              "  </style>\n",
              "\n",
              "      <script>\n",
              "        const buttonEl =\n",
              "          document.querySelector('#df-ddc89fb7-5d72-4fc1-bd4d-ac80f19c5b04 button.colab-df-convert');\n",
              "        buttonEl.style.display =\n",
              "          google.colab.kernel.accessAllowed ? 'block' : 'none';\n",
              "\n",
              "        async function convertToInteractive(key) {\n",
              "          const element = document.querySelector('#df-ddc89fb7-5d72-4fc1-bd4d-ac80f19c5b04');\n",
              "          const dataTable =\n",
              "            await google.colab.kernel.invokeFunction('convertToInteractive',\n",
              "                                                     [key], {});\n",
              "          if (!dataTable) return;\n",
              "\n",
              "          const docLinkHtml = 'Like what you see? Visit the ' +\n",
              "            '<a target=\"_blank\" href=https://colab.research.google.com/notebooks/data_table.ipynb>data table notebook</a>'\n",
              "            + ' to learn more about interactive tables.';\n",
              "          element.innerHTML = '';\n",
              "          dataTable['output_type'] = 'display_data';\n",
              "          await google.colab.output.renderOutput(dataTable, element);\n",
              "          const docLink = document.createElement('div');\n",
              "          docLink.innerHTML = docLinkHtml;\n",
              "          element.appendChild(docLink);\n",
              "        }\n",
              "      </script>\n",
              "    </div>\n",
              "  </div>\n",
              "  "
            ],
            "text/plain": [
              "        age  physical_score  test_result  pred_proba  pred\n",
              "1718 39.000          37.800            1       0.976     1\n",
              "2511 45.000          38.700            1       0.973     1\n",
              "345  56.000          21.800            0       0.011     0\n",
              "2521 40.000          44.000            1       0.998     1\n",
              "54   64.000          25.400            0       0.025     0\n",
              "...     ...             ...          ...         ...   ...\n",
              "4770 46.000          37.700            1       0.956     1\n",
              "188  59.000          36.500            1       0.813     1\n",
              "3335 54.000          22.800            0       0.019     0\n",
              "4583 58.000          20.500            0       0.005     0\n",
              "3208 48.000          24.700            0       0.069     0\n",
              "\n",
              "[500 rows x 5 columns]"
            ]
          },
          "metadata": {},
          "execution_count": 33
        }
      ],
      "source": [
        "test_data[\"pred\"] = y_pred\n",
        "test_data"
      ]
    },
    {
      "cell_type": "code",
      "execution_count": 34,
      "metadata": {
        "colab": {
          "base_uri": "https://localhost:8080/",
          "height": 363
        },
        "id": "OJMQIQTg4Va_",
        "outputId": "c0e0db87-62bb-48a5-a938-6e228df265d7"
      },
      "outputs": [
        {
          "output_type": "execute_result",
          "data": {
            "text/html": [
              "\n",
              "  <div id=\"df-c01049ca-6de0-4e39-a99e-d37812085780\">\n",
              "    <div class=\"colab-df-container\">\n",
              "      <div>\n",
              "<style scoped>\n",
              "    .dataframe tbody tr th:only-of-type {\n",
              "        vertical-align: middle;\n",
              "    }\n",
              "\n",
              "    .dataframe tbody tr th {\n",
              "        vertical-align: top;\n",
              "    }\n",
              "\n",
              "    .dataframe thead th {\n",
              "        text-align: right;\n",
              "    }\n",
              "</style>\n",
              "<table border=\"1\" class=\"dataframe\">\n",
              "  <thead>\n",
              "    <tr style=\"text-align: right;\">\n",
              "      <th></th>\n",
              "      <th>age</th>\n",
              "      <th>physical_score</th>\n",
              "      <th>test_result</th>\n",
              "      <th>pred_proba</th>\n",
              "      <th>pred</th>\n",
              "    </tr>\n",
              "  </thead>\n",
              "  <tbody>\n",
              "    <tr>\n",
              "      <th>213</th>\n",
              "      <td>46.000</td>\n",
              "      <td>41.000</td>\n",
              "      <td>1</td>\n",
              "      <td>0.989</td>\n",
              "      <td>1</td>\n",
              "    </tr>\n",
              "    <tr>\n",
              "      <th>4327</th>\n",
              "      <td>46.000</td>\n",
              "      <td>41.500</td>\n",
              "      <td>1</td>\n",
              "      <td>0.991</td>\n",
              "      <td>1</td>\n",
              "    </tr>\n",
              "    <tr>\n",
              "      <th>481</th>\n",
              "      <td>40.000</td>\n",
              "      <td>39.600</td>\n",
              "      <td>1</td>\n",
              "      <td>0.988</td>\n",
              "      <td>1</td>\n",
              "    </tr>\n",
              "    <tr>\n",
              "      <th>966</th>\n",
              "      <td>48.000</td>\n",
              "      <td>36.300</td>\n",
              "      <td>1</td>\n",
              "      <td>0.910</td>\n",
              "      <td>1</td>\n",
              "    </tr>\n",
              "    <tr>\n",
              "      <th>176</th>\n",
              "      <td>30.000</td>\n",
              "      <td>42.200</td>\n",
              "      <td>1</td>\n",
              "      <td>0.998</td>\n",
              "      <td>1</td>\n",
              "    </tr>\n",
              "    <tr>\n",
              "      <th>3614</th>\n",
              "      <td>32.000</td>\n",
              "      <td>42.000</td>\n",
              "      <td>1</td>\n",
              "      <td>0.998</td>\n",
              "      <td>1</td>\n",
              "    </tr>\n",
              "    <tr>\n",
              "      <th>1489</th>\n",
              "      <td>60.000</td>\n",
              "      <td>31.000</td>\n",
              "      <td>0</td>\n",
              "      <td>0.279</td>\n",
              "      <td>0</td>\n",
              "    </tr>\n",
              "    <tr>\n",
              "      <th>4800</th>\n",
              "      <td>39.000</td>\n",
              "      <td>41.100</td>\n",
              "      <td>1</td>\n",
              "      <td>0.994</td>\n",
              "      <td>1</td>\n",
              "    </tr>\n",
              "    <tr>\n",
              "      <th>4448</th>\n",
              "      <td>62.000</td>\n",
              "      <td>35.800</td>\n",
              "      <td>1</td>\n",
              "      <td>0.715</td>\n",
              "      <td>1</td>\n",
              "    </tr>\n",
              "    <tr>\n",
              "      <th>679</th>\n",
              "      <td>42.000</td>\n",
              "      <td>42.000</td>\n",
              "      <td>1</td>\n",
              "      <td>0.995</td>\n",
              "      <td>1</td>\n",
              "    </tr>\n",
              "  </tbody>\n",
              "</table>\n",
              "</div>\n",
              "      <button class=\"colab-df-convert\" onclick=\"convertToInteractive('df-c01049ca-6de0-4e39-a99e-d37812085780')\"\n",
              "              title=\"Convert this dataframe to an interactive table.\"\n",
              "              style=\"display:none;\">\n",
              "        \n",
              "  <svg xmlns=\"http://www.w3.org/2000/svg\" height=\"24px\"viewBox=\"0 0 24 24\"\n",
              "       width=\"24px\">\n",
              "    <path d=\"M0 0h24v24H0V0z\" fill=\"none\"/>\n",
              "    <path d=\"M18.56 5.44l.94 2.06.94-2.06 2.06-.94-2.06-.94-.94-2.06-.94 2.06-2.06.94zm-11 1L8.5 8.5l.94-2.06 2.06-.94-2.06-.94L8.5 2.5l-.94 2.06-2.06.94zm10 10l.94 2.06.94-2.06 2.06-.94-2.06-.94-.94-2.06-.94 2.06-2.06.94z\"/><path d=\"M17.41 7.96l-1.37-1.37c-.4-.4-.92-.59-1.43-.59-.52 0-1.04.2-1.43.59L10.3 9.45l-7.72 7.72c-.78.78-.78 2.05 0 2.83L4 21.41c.39.39.9.59 1.41.59.51 0 1.02-.2 1.41-.59l7.78-7.78 2.81-2.81c.8-.78.8-2.07 0-2.86zM5.41 20L4 18.59l7.72-7.72 1.47 1.35L5.41 20z\"/>\n",
              "  </svg>\n",
              "      </button>\n",
              "      \n",
              "  <style>\n",
              "    .colab-df-container {\n",
              "      display:flex;\n",
              "      flex-wrap:wrap;\n",
              "      gap: 12px;\n",
              "    }\n",
              "\n",
              "    .colab-df-convert {\n",
              "      background-color: #E8F0FE;\n",
              "      border: none;\n",
              "      border-radius: 50%;\n",
              "      cursor: pointer;\n",
              "      display: none;\n",
              "      fill: #1967D2;\n",
              "      height: 32px;\n",
              "      padding: 0 0 0 0;\n",
              "      width: 32px;\n",
              "    }\n",
              "\n",
              "    .colab-df-convert:hover {\n",
              "      background-color: #E2EBFA;\n",
              "      box-shadow: 0px 1px 2px rgba(60, 64, 67, 0.3), 0px 1px 3px 1px rgba(60, 64, 67, 0.15);\n",
              "      fill: #174EA6;\n",
              "    }\n",
              "\n",
              "    [theme=dark] .colab-df-convert {\n",
              "      background-color: #3B4455;\n",
              "      fill: #D2E3FC;\n",
              "    }\n",
              "\n",
              "    [theme=dark] .colab-df-convert:hover {\n",
              "      background-color: #434B5C;\n",
              "      box-shadow: 0px 1px 3px 1px rgba(0, 0, 0, 0.15);\n",
              "      filter: drop-shadow(0px 1px 2px rgba(0, 0, 0, 0.3));\n",
              "      fill: #FFFFFF;\n",
              "    }\n",
              "  </style>\n",
              "\n",
              "      <script>\n",
              "        const buttonEl =\n",
              "          document.querySelector('#df-c01049ca-6de0-4e39-a99e-d37812085780 button.colab-df-convert');\n",
              "        buttonEl.style.display =\n",
              "          google.colab.kernel.accessAllowed ? 'block' : 'none';\n",
              "\n",
              "        async function convertToInteractive(key) {\n",
              "          const element = document.querySelector('#df-c01049ca-6de0-4e39-a99e-d37812085780');\n",
              "          const dataTable =\n",
              "            await google.colab.kernel.invokeFunction('convertToInteractive',\n",
              "                                                     [key], {});\n",
              "          if (!dataTable) return;\n",
              "\n",
              "          const docLinkHtml = 'Like what you see? Visit the ' +\n",
              "            '<a target=\"_blank\" href=https://colab.research.google.com/notebooks/data_table.ipynb>data table notebook</a>'\n",
              "            + ' to learn more about interactive tables.';\n",
              "          element.innerHTML = '';\n",
              "          dataTable['output_type'] = 'display_data';\n",
              "          await google.colab.output.renderOutput(dataTable, element);\n",
              "          const docLink = document.createElement('div');\n",
              "          docLink.innerHTML = docLinkHtml;\n",
              "          element.appendChild(docLink);\n",
              "        }\n",
              "      </script>\n",
              "    </div>\n",
              "  </div>\n",
              "  "
            ],
            "text/plain": [
              "        age  physical_score  test_result  pred_proba  pred\n",
              "213  46.000          41.000            1       0.989     1\n",
              "4327 46.000          41.500            1       0.991     1\n",
              "481  40.000          39.600            1       0.988     1\n",
              "966  48.000          36.300            1       0.910     1\n",
              "176  30.000          42.200            1       0.998     1\n",
              "3614 32.000          42.000            1       0.998     1\n",
              "1489 60.000          31.000            0       0.279     0\n",
              "4800 39.000          41.100            1       0.994     1\n",
              "4448 62.000          35.800            1       0.715     1\n",
              "679  42.000          42.000            1       0.995     1"
            ]
          },
          "metadata": {},
          "execution_count": 34
        }
      ],
      "source": [
        "test_data.sample(10)"
      ]
    },
    {
      "cell_type": "markdown",
      "metadata": {
        "id": "5zoOedne4Va_"
      },
      "source": [
        "## Model Performance on Classification Tasks"
      ]
    },
    {
      "cell_type": "code",
      "execution_count": 35,
      "metadata": {
        "id": "H2-6cBM84VbA"
      },
      "outputs": [],
      "source": [
        "from sklearn.metrics import precision_score, recall_score, accuracy_score, f1_score"
      ]
    },
    {
      "cell_type": "code",
      "execution_count": 36,
      "metadata": {
        "colab": {
          "base_uri": "https://localhost:8080/"
        },
        "id": "cc28rILO4VbA",
        "outputId": "7449b7e2-c688-42af-e987-29c07d91296b"
      },
      "outputs": [
        {
          "output_type": "execute_result",
          "data": {
            "text/plain": [
              "0.93"
            ]
          },
          "metadata": {},
          "execution_count": 36
        }
      ],
      "source": [
        "accuracy_score(y_test,y_pred)"
      ]
    },
    {
      "cell_type": "code",
      "execution_count": 37,
      "metadata": {
        "colab": {
          "base_uri": "https://localhost:8080/"
        },
        "id": "yeQWm9ea4VbA",
        "outputId": "6ff37632-9a04-4040-b236-4910c525ddf5"
      },
      "outputs": [
        {
          "output_type": "execute_result",
          "data": {
            "text/plain": [
              "0.93"
            ]
          },
          "metadata": {},
          "execution_count": 37
        }
      ],
      "source": [
        "log_model.score(X_test_scaled, y_test)"
      ]
    },
    {
      "cell_type": "code",
      "execution_count": 38,
      "metadata": {
        "colab": {
          "base_uri": "https://localhost:8080/"
        },
        "id": "NPAAmScn4VbB",
        "outputId": "8e6c40e7-89ae-4cad-ab73-a74c84ffb89b"
      },
      "outputs": [
        {
          "output_type": "execute_result",
          "data": {
            "text/plain": [
              "0.9331210191082803"
            ]
          },
          "metadata": {},
          "execution_count": 38
        }
      ],
      "source": [
        "precision_score(y_test, y_pred)"
      ]
    },
    {
      "cell_type": "code",
      "execution_count": 39,
      "metadata": {
        "colab": {
          "base_uri": "https://localhost:8080/"
        },
        "id": "oDPkaZwv4VbB",
        "outputId": "9ef6de7b-080a-4825-d38c-a2c51f1315e6"
      },
      "outputs": [
        {
          "output_type": "execute_result",
          "data": {
            "text/plain": [
              "0.9543973941368078"
            ]
          },
          "metadata": {},
          "execution_count": 39
        }
      ],
      "source": [
        "recall_score(y_test, y_pred)"
      ]
    },
    {
      "cell_type": "code",
      "execution_count": 40,
      "metadata": {
        "colab": {
          "base_uri": "https://localhost:8080/"
        },
        "id": "xyPUKWmg4VbC",
        "outputId": "9314bb2c-5d6f-4788-d42f-83b3e8c383fa"
      },
      "outputs": [
        {
          "output_type": "execute_result",
          "data": {
            "text/plain": [
              "0.9297480869650194"
            ]
          },
          "metadata": {},
          "execution_count": 40
        }
      ],
      "source": [
        "f1_score(y_test,y_pred, average = \"weighted\")"
      ]
    },
    {
      "cell_type": "code",
      "execution_count": null,
      "metadata": {
        "id": "UI9uXWXR4VbC"
      },
      "outputs": [],
      "source": [
        ""
      ]
    },
    {
      "cell_type": "code",
      "execution_count": null,
      "metadata": {
        "id": "e4lYcBNj4VbC"
      },
      "outputs": [],
      "source": [
        ""
      ]
    },
    {
      "cell_type": "code",
      "execution_count": 41,
      "metadata": {
        "id": "ZeXao-PJ4VbC"
      },
      "outputs": [],
      "source": [
        "from sklearn.metrics import confusion_matrix, classification_report, plot_confusion_matrix"
      ]
    },
    {
      "cell_type": "code",
      "execution_count": 42,
      "metadata": {
        "colab": {
          "base_uri": "https://localhost:8080/"
        },
        "id": "Pf35wnap4VbD",
        "outputId": "c695e98f-db02-4199-9e0f-83b11e761224"
      },
      "outputs": [
        {
          "output_type": "execute_result",
          "data": {
            "text/plain": [
              "array([[172,  21],\n",
              "       [ 14, 293]])"
            ]
          },
          "metadata": {},
          "execution_count": 42
        }
      ],
      "source": [
        "confusion_matrix(y_test,y_pred)"
      ]
    },
    {
      "cell_type": "code",
      "execution_count": 43,
      "metadata": {
        "colab": {
          "base_uri": "https://localhost:8080/",
          "height": 279
        },
        "id": "iVE9n73F4VbE",
        "outputId": "7210b94a-c0dc-4768-abed-a7a38d596db9"
      },
      "outputs": [
        {
          "output_type": "display_data",
          "data": {
            "image/png": "[encoded data removed]",
            "text/plain": [
              "<Figure size 432x288 with 2 Axes>"
            ]
          },
          "metadata": {
            "needs_background": "light"
          }
        }
      ],
      "source": [
        "#manuel prediction yapmadan bu fonksiyonun çalıştığından bahset\n",
        "plot_confusion_matrix(log_model, X_test_scaled, y_test);"
      ]
    },
    {
      "cell_type": "code",
      "execution_count": 44,
      "metadata": {
        "colab": {
          "base_uri": "https://localhost:8080/",
          "height": 279
        },
        "id": "f1Zg4sVI4VbT",
        "outputId": "218e1eb3-078b-4b2f-968e-dae7a2cb8a93"
      },
      "outputs": [
        {
          "output_type": "display_data",
          "data": {
            "image/png": "[encoded data removed]",
            "text/plain": [
              "<Figure size 432x288 with 2 Axes>"
            ]
          },
          "metadata": {
            "needs_background": "light"
          }
        }
      ],
      "source": [
        "plot_confusion_matrix(log_model, X_test_scaled, y_test, normalize='true');"
      ]
    },
    {
      "cell_type": "code",
      "execution_count": 45,
      "metadata": {
        "colab": {
          "base_uri": "https://localhost:8080/"
        },
        "id": "9Pgm6-qK4VbU",
        "outputId": "39b62c27-01ca-46a9-f58b-c7edbba0fc7b"
      },
      "outputs": [
        {
          "output_type": "stream",
          "name": "stdout",
          "text": [
            "              precision    recall  f1-score   support\n",
            "\n",
            "           0       0.92      0.89      0.91       193\n",
            "           1       0.93      0.95      0.94       307\n",
            "\n",
            "    accuracy                           0.93       500\n",
            "   macro avg       0.93      0.92      0.93       500\n",
            "weighted avg       0.93      0.93      0.93       500\n",
            "\n"
          ]
        }
      ],
      "source": [
        "print(classification_report(y_test,y_pred))"
      ]
    },
    {
      "cell_type": "code",
      "execution_count": 46,
      "metadata": {
        "colab": {
          "base_uri": "https://localhost:8080/"
        },
        "id": "N-tRKjw74VbU",
        "outputId": "9994e37a-69cb-48d9-cccc-4814bca52681"
      },
      "outputs": [
        {
          "output_type": "stream",
          "name": "stdout",
          "text": [
            "              precision    recall  f1-score   support\n",
            "\n",
            "           0       0.91      0.87      0.89      1807\n",
            "           1       0.91      0.95      0.93      2693\n",
            "\n",
            "    accuracy                           0.91      4500\n",
            "   macro avg       0.91      0.91      0.91      4500\n",
            "weighted avg       0.91      0.91      0.91      4500\n",
            "\n"
          ]
        }
      ],
      "source": [
        "y_train_pred = log_model.predict(X_train_scaled)\n",
        "print(classification_report(y_train,y_train_pred))"
      ]
    },
    {
      "cell_type": "code",
      "execution_count": 47,
      "metadata": {
        "colab": {
          "base_uri": "https://localhost:8080/",
          "height": 279
        },
        "id": "Bgmsm3KN4VbV",
        "outputId": "fe03b244-46b2-47dc-80a3-cd2c73d55ae2"
      },
      "outputs": [
        {
          "output_type": "display_data",
          "data": {
            "image/png": "[encoded data removed]",
            "text/plain": [
              "<Figure size 432x288 with 2 Axes>"
            ]
          },
          "metadata": {
            "needs_background": "light"
          }
        }
      ],
      "source": [
        "plot_confusion_matrix(log_model, X_train_scaled, y_train);"
      ]
    },
    {
      "cell_type": "markdown",
      "metadata": {
        "id": "LEh-InB-4VbZ"
      },
      "source": [
        "## Cross Validate"
      ]
    },
    {
      "cell_type": "code",
      "execution_count": 48,
      "metadata": {
        "id": "mKoqGJxT4Vba"
      },
      "outputs": [],
      "source": [
        "from sklearn.model_selection import cross_validate"
      ]
    },
    {
      "cell_type": "code",
      "execution_count": 49,
      "metadata": {
        "colab": {
          "base_uri": "https://localhost:8080/"
        },
        "id": "lUDqOWk-4Vba",
        "outputId": "cb197882-a862-49bc-9884-227aa315b8e9"
      },
      "outputs": [
        {
          "output_type": "execute_result",
          "data": {
            "text/plain": [
              "dict_keys(['explained_variance', 'r2', 'max_error', 'neg_median_absolute_error', 'neg_mean_absolute_error', 'neg_mean_absolute_percentage_error', 'neg_mean_squared_error', 'neg_mean_squared_log_error', 'neg_root_mean_squared_error', 'neg_mean_poisson_deviance', 'neg_mean_gamma_deviance', 'accuracy', 'top_k_accuracy', 'roc_auc', 'roc_auc_ovr', 'roc_auc_ovo', 'roc_auc_ovr_weighted', 'roc_auc_ovo_weighted', 'balanced_accuracy', 'average_precision', 'neg_log_loss', 'neg_brier_score', 'adjusted_rand_score', 'rand_score', 'homogeneity_score', 'completeness_score', 'v_measure_score', 'mutual_info_score', 'adjusted_mutual_info_score', 'normalized_mutual_info_score', 'fowlkes_mallows_score', 'precision', 'precision_macro', 'precision_micro', 'precision_samples', 'precision_weighted', 'recall', 'recall_macro', 'recall_micro', 'recall_samples', 'recall_weighted', 'f1', 'f1_macro', 'f1_micro', 'f1_samples', 'f1_weighted', 'jaccard', 'jaccard_macro', 'jaccard_micro', 'jaccard_samples', 'jaccard_weighted'])"
            ]
          },
          "metadata": {},
          "execution_count": 49
        }
      ],
      "source": [
        "import sklearn\n",
        "sklearn.metrics.SCORERS.keys()"
      ]
    },
    {
      "cell_type": "code",
      "execution_count": 50,
      "metadata": {
        "colab": {
          "base_uri": "https://localhost:8080/",
          "height": 363
        },
        "id": "DRvQV9ma4Vba",
        "outputId": "0d426598-d237-4822-edab-93dc3c71ed76"
      },
      "outputs": [
        {
          "output_type": "execute_result",
          "data": {
            "text/html": [
              "\n",
              "  <div id=\"df-894fe556-ad83-42b5-9da9-23616309136b\">\n",
              "    <div class=\"colab-df-container\">\n",
              "      <div>\n",
              "<style scoped>\n",
              "    .dataframe tbody tr th:only-of-type {\n",
              "        vertical-align: middle;\n",
              "    }\n",
              "\n",
              "    .dataframe tbody tr th {\n",
              "        vertical-align: top;\n",
              "    }\n",
              "\n",
              "    .dataframe thead th {\n",
              "        text-align: right;\n",
              "    }\n",
              "</style>\n",
              "<table border=\"1\" class=\"dataframe\">\n",
              "  <thead>\n",
              "    <tr style=\"text-align: right;\">\n",
              "      <th></th>\n",
              "      <th>fit_time</th>\n",
              "      <th>score_time</th>\n",
              "      <th>test_accuracy</th>\n",
              "      <th>test_precision</th>\n",
              "      <th>test_recall</th>\n",
              "      <th>test_f1</th>\n",
              "    </tr>\n",
              "  </thead>\n",
              "  <tbody>\n",
              "    <tr>\n",
              "      <th>1</th>\n",
              "      <td>0.013</td>\n",
              "      <td>0.005</td>\n",
              "      <td>0.900</td>\n",
              "      <td>0.889</td>\n",
              "      <td>0.952</td>\n",
              "      <td>0.919</td>\n",
              "    </tr>\n",
              "    <tr>\n",
              "      <th>2</th>\n",
              "      <td>0.009</td>\n",
              "      <td>0.004</td>\n",
              "      <td>0.924</td>\n",
              "      <td>0.921</td>\n",
              "      <td>0.956</td>\n",
              "      <td>0.938</td>\n",
              "    </tr>\n",
              "    <tr>\n",
              "      <th>3</th>\n",
              "      <td>0.009</td>\n",
              "      <td>0.004</td>\n",
              "      <td>0.936</td>\n",
              "      <td>0.917</td>\n",
              "      <td>0.981</td>\n",
              "      <td>0.948</td>\n",
              "    </tr>\n",
              "    <tr>\n",
              "      <th>4</th>\n",
              "      <td>0.009</td>\n",
              "      <td>0.004</td>\n",
              "      <td>0.931</td>\n",
              "      <td>0.938</td>\n",
              "      <td>0.948</td>\n",
              "      <td>0.943</td>\n",
              "    </tr>\n",
              "    <tr>\n",
              "      <th>5</th>\n",
              "      <td>0.013</td>\n",
              "      <td>0.005</td>\n",
              "      <td>0.938</td>\n",
              "      <td>0.941</td>\n",
              "      <td>0.955</td>\n",
              "      <td>0.948</td>\n",
              "    </tr>\n",
              "    <tr>\n",
              "      <th>6</th>\n",
              "      <td>0.010</td>\n",
              "      <td>0.004</td>\n",
              "      <td>0.902</td>\n",
              "      <td>0.934</td>\n",
              "      <td>0.900</td>\n",
              "      <td>0.917</td>\n",
              "    </tr>\n",
              "    <tr>\n",
              "      <th>7</th>\n",
              "      <td>0.010</td>\n",
              "      <td>0.004</td>\n",
              "      <td>0.898</td>\n",
              "      <td>0.889</td>\n",
              "      <td>0.948</td>\n",
              "      <td>0.917</td>\n",
              "    </tr>\n",
              "    <tr>\n",
              "      <th>8</th>\n",
              "      <td>0.010</td>\n",
              "      <td>0.005</td>\n",
              "      <td>0.911</td>\n",
              "      <td>0.896</td>\n",
              "      <td>0.963</td>\n",
              "      <td>0.928</td>\n",
              "    </tr>\n",
              "    <tr>\n",
              "      <th>9</th>\n",
              "      <td>0.010</td>\n",
              "      <td>0.004</td>\n",
              "      <td>0.891</td>\n",
              "      <td>0.910</td>\n",
              "      <td>0.907</td>\n",
              "      <td>0.909</td>\n",
              "    </tr>\n",
              "    <tr>\n",
              "      <th>10</th>\n",
              "      <td>0.009</td>\n",
              "      <td>0.004</td>\n",
              "      <td>0.916</td>\n",
              "      <td>0.911</td>\n",
              "      <td>0.952</td>\n",
              "      <td>0.931</td>\n",
              "    </tr>\n",
              "  </tbody>\n",
              "</table>\n",
              "</div>\n",
              "      <button class=\"colab-df-convert\" onclick=\"convertToInteractive('df-894fe556-ad83-42b5-9da9-23616309136b')\"\n",
              "              title=\"Convert this dataframe to an interactive table.\"\n",
              "              style=\"display:none;\">\n",
              "        \n",
              "  <svg xmlns=\"http://www.w3.org/2000/svg\" height=\"24px\"viewBox=\"0 0 24 24\"\n",
              "       width=\"24px\">\n",
              "    <path d=\"M0 0h24v24H0V0z\" fill=\"none\"/>\n",
              "    <path d=\"M18.56 5.44l.94 2.06.94-2.06 2.06-.94-2.06-.94-.94-2.06-.94 2.06-2.06.94zm-11 1L8.5 8.5l.94-2.06 2.06-.94-2.06-.94L8.5 2.5l-.94 2.06-2.06.94zm10 10l.94 2.06.94-2.06 2.06-.94-2.06-.94-.94-2.06-.94 2.06-2.06.94z\"/><path d=\"M17.41 7.96l-1.37-1.37c-.4-.4-.92-.59-1.43-.59-.52 0-1.04.2-1.43.59L10.3 9.45l-7.72 7.72c-.78.78-.78 2.05 0 2.83L4 21.41c.39.39.9.59 1.41.59.51 0 1.02-.2 1.41-.59l7.78-7.78 2.81-2.81c.8-.78.8-2.07 0-2.86zM5.41 20L4 18.59l7.72-7.72 1.47 1.35L5.41 20z\"/>\n",
              "  </svg>\n",
              "      </button>\n",
              "      \n",
              "  <style>\n",
              "    .colab-df-container {\n",
              "      display:flex;\n",
              "      flex-wrap:wrap;\n",
              "      gap: 12px;\n",
              "    }\n",
              "\n",
              "    .colab-df-convert {\n",
              "      background-color: #E8F0FE;\n",
              "      border: none;\n",
              "      border-radius: 50%;\n",
              "      cursor: pointer;\n",
              "      display: none;\n",
              "      fill: #1967D2;\n",
              "      height: 32px;\n",
              "      padding: 0 0 0 0;\n",
              "      width: 32px;\n",
              "    }\n",
              "\n",
              "    .colab-df-convert:hover {\n",
              "      background-color: #E2EBFA;\n",
              "      box-shadow: 0px 1px 2px rgba(60, 64, 67, 0.3), 0px 1px 3px 1px rgba(60, 64, 67, 0.15);\n",
              "      fill: #174EA6;\n",
              "    }\n",
              "\n",
              "    [theme=dark] .colab-df-convert {\n",
              "      background-color: #3B4455;\n",
              "      fill: #D2E3FC;\n",
              "    }\n",
              "\n",
              "    [theme=dark] .colab-df-convert:hover {\n",
              "      background-color: #434B5C;\n",
              "      box-shadow: 0px 1px 3px 1px rgba(0, 0, 0, 0.15);\n",
              "      filter: drop-shadow(0px 1px 2px rgba(0, 0, 0, 0.3));\n",
              "      fill: #FFFFFF;\n",
              "    }\n",
              "  </style>\n",
              "\n",
              "      <script>\n",
              "        const buttonEl =\n",
              "          document.querySelector('#df-894fe556-ad83-42b5-9da9-23616309136b button.colab-df-convert');\n",
              "        buttonEl.style.display =\n",
              "          google.colab.kernel.accessAllowed ? 'block' : 'none';\n",
              "\n",
              "        async function convertToInteractive(key) {\n",
              "          const element = document.querySelector('#df-894fe556-ad83-42b5-9da9-23616309136b');\n",
              "          const dataTable =\n",
              "            await google.colab.kernel.invokeFunction('convertToInteractive',\n",
              "                                                     [key], {});\n",
              "          if (!dataTable) return;\n",
              "\n",
              "          const docLinkHtml = 'Like what you see? Visit the ' +\n",
              "            '<a target=\"_blank\" href=https://colab.research.google.com/notebooks/data_table.ipynb>data table notebook</a>'\n",
              "            + ' to learn more about interactive tables.';\n",
              "          element.innerHTML = '';\n",
              "          dataTable['output_type'] = 'display_data';\n",
              "          await google.colab.output.renderOutput(dataTable, element);\n",
              "          const docLink = document.createElement('div');\n",
              "          docLink.innerHTML = docLinkHtml;\n",
              "          element.appendChild(docLink);\n",
              "        }\n",
              "      </script>\n",
              "    </div>\n",
              "  </div>\n",
              "  "
            ],
            "text/plain": [
              "    fit_time  score_time  test_accuracy  test_precision  test_recall  test_f1\n",
              "1      0.013       0.005          0.900           0.889        0.952    0.919\n",
              "2      0.009       0.004          0.924           0.921        0.956    0.938\n",
              "3      0.009       0.004          0.936           0.917        0.981    0.948\n",
              "4      0.009       0.004          0.931           0.938        0.948    0.943\n",
              "5      0.013       0.005          0.938           0.941        0.955    0.948\n",
              "6      0.010       0.004          0.902           0.934        0.900    0.917\n",
              "7      0.010       0.004          0.898           0.889        0.948    0.917\n",
              "8      0.010       0.005          0.911           0.896        0.963    0.928\n",
              "9      0.010       0.004          0.891           0.910        0.907    0.909\n",
              "10     0.009       0.004          0.916           0.911        0.952    0.931"
            ]
          },
          "metadata": {},
          "execution_count": 50
        }
      ],
      "source": [
        "model = LogisticRegression()\n",
        "\n",
        "scores = cross_validate(model, X_train_scaled, y_train, scoring = ['accuracy', 'precision','recall','f1'], cv = 10)\n",
        "df_scores = pd.DataFrame(scores, index = range(1, 11))\n",
        "df_scores"
      ]
    },
    {
      "cell_type": "code",
      "execution_count": 51,
      "metadata": {
        "colab": {
          "base_uri": "https://localhost:8080/"
        },
        "id": "eXfaD_vm4Vbb",
        "outputId": "297dc345-69ef-4221-e4a9-d88528a38909"
      },
      "outputs": [
        {
          "output_type": "execute_result",
          "data": {
            "text/plain": [
              "test_accuracy    0.915\n",
              "test_precision   0.915\n",
              "test_recall      0.946\n",
              "test_f1          0.930\n",
              "dtype: float64"
            ]
          },
          "metadata": {},
          "execution_count": 51
        }
      ],
      "source": [
        "df_scores.mean()[2:]"
      ]
    },
    {
      "cell_type": "code",
      "execution_count": 52,
      "metadata": {
        "colab": {
          "base_uri": "https://localhost:8080/"
        },
        "id": "uLGqjA-F4Vbb",
        "outputId": "ad31a144-67d2-4c19-c8f4-de44e81a41f3"
      },
      "outputs": [
        {
          "output_type": "stream",
          "name": "stdout",
          "text": [
            "Test Set\n",
            "              precision    recall  f1-score   support\n",
            "\n",
            "           0       0.92      0.89      0.91       193\n",
            "           1       0.93      0.95      0.94       307\n",
            "\n",
            "    accuracy                           0.93       500\n",
            "   macro avg       0.93      0.92      0.93       500\n",
            "weighted avg       0.93      0.93      0.93       500\n",
            "\n",
            "Train Set\n",
            "\n",
            "              precision    recall  f1-score   support\n",
            "\n",
            "           0       0.91      0.87      0.89      1807\n",
            "           1       0.91      0.95      0.93      2693\n",
            "\n",
            "    accuracy                           0.91      4500\n",
            "   macro avg       0.91      0.91      0.91      4500\n",
            "weighted avg       0.91      0.91      0.91      4500\n",
            "\n"
          ]
        }
      ],
      "source": [
        "print(\"Test Set\")\n",
        "print(classification_report(y_test,y_pred))\n",
        "print(\"Train Set\\n\")\n",
        "y_train_pred = log_model.predict(X_train_scaled)\n",
        "print(classification_report(y_train,y_train_pred))"
      ]
    },
    {
      "cell_type": "code",
      "execution_count": 52,
      "metadata": {
        "id": "hp1Py2M34Vbc"
      },
      "outputs": [],
      "source": [
        ""
      ]
    },
    {
      "cell_type": "markdown",
      "metadata": {
        "id": "i06BRTrM4Vbd"
      },
      "source": [
        "## ROC (Receiver Operating Curve) and AUC (Area Under Curve)"
      ]
    },
    {
      "cell_type": "markdown",
      "metadata": {
        "id": "6vNDxdxj4Vbd"
      },
      "source": [
        "Purpose of ROC Curve:\n",
        "    1. Analysing the strength/predictive power of a classifier.\n",
        "    2. Determining optimal threshold.\n",
        "    3. Comparing two models (using Area Under the Curve)."
      ]
    },
    {
      "cell_type": "markdown",
      "metadata": {
        "id": "bSMmJ8V64Vbd"
      },
      "source": [
        "AUC represents a degree or measure of separability. It tells us how much the model is capable of distinguishing between classes. Higher the AUC, better the model is at predicting the probability of class YES higher than the probability of class NO."
      ]
    },
    {
      "cell_type": "markdown",
      "metadata": {
        "id": "b73zt6eG4Vbd"
      },
      "source": [
        "The ROC Curve was first used during World War II for the analysis of radar signals. After the attack on Pearl Harbor, the US army began new research to improve the rate of detection of Japanese aircraft from their radar signals. Needless to say, they did not want to miss any of them. Neither did they wish to waste their resources on false alarms. They measured the ability of a radar receiver operator to make these predictions called the Receiver Operating Characteristic. That is the origin of the name. The purpose of the curve was similar to how we use it to improve our machine learning models now. The aim was to analyse the predictive power of the predictor in ensuring the detection of as many true positives as possible while minimizing false positives.\n",
        "\n",
        "https://towardsdatascience.com/demystifying-roc-curves-df809474529a"
      ]
    },
    {
      "cell_type": "code",
      "execution_count": 53,
      "metadata": {
        "id": "uJvtVfOJ4Vbe"
      },
      "outputs": [],
      "source": [
        "from sklearn.metrics import plot_roc_curve, plot_precision_recall_curve, roc_auc_score, auc, roc_curve"
      ]
    },
    {
      "cell_type": "code",
      "execution_count": 54,
      "metadata": {
        "colab": {
          "base_uri": "https://localhost:8080/",
          "height": 279
        },
        "id": "Fgx8_q3B4Vbf",
        "outputId": "23846617-8a53-4ad2-c2ea-293a6e0f36d7"
      },
      "outputs": [
        {
          "output_type": "display_data",
          "data": {
            "image/png": "[encoded data removed]",
            "text/plain": [
              "<Figure size 432x288 with 1 Axes>"
            ]
          },
          "metadata": {
            "needs_background": "light"
          }
        }
      ],
      "source": [
        "plot_roc_curve(log_model, X_test_scaled, y_test);"
      ]
    },
    {
      "cell_type": "code",
      "execution_count": 55,
      "metadata": {
        "colab": {
          "base_uri": "https://localhost:8080/"
        },
        "id": "WDRflmXk4Vbf",
        "outputId": "8100019d-051a-4295-df00-5d1969911fb5"
      },
      "outputs": [
        {
          "output_type": "execute_result",
          "data": {
            "text/plain": [
              "0.9630132824762451"
            ]
          },
          "metadata": {},
          "execution_count": 55
        }
      ],
      "source": [
        "roc_auc_score(y_test, y_pred_proba[:,1])"
      ]
    },
    {
      "cell_type": "code",
      "execution_count": 56,
      "metadata": {
        "colab": {
          "base_uri": "https://localhost:8080/"
        },
        "id": "Fl6fypFk4Vbf",
        "outputId": "4352dd0d-0145-4951-de68-650e54af0df2"
      },
      "outputs": [
        {
          "output_type": "execute_result",
          "data": {
            "text/plain": [
              "0.9227945519906837"
            ]
          },
          "metadata": {},
          "execution_count": 56
        }
      ],
      "source": [
        "roc_auc_score(y_test, y_pred)"
      ]
    },
    {
      "cell_type": "code",
      "execution_count": 57,
      "metadata": {
        "colab": {
          "base_uri": "https://localhost:8080/",
          "height": 279
        },
        "id": "8CFbaK1s4Vbg",
        "outputId": "78d9f017-0b01-40d3-d19b-c2074401abdb"
      },
      "outputs": [
        {
          "output_type": "display_data",
          "data": {
            "image/png": "[encoded data removed]",
            "text/plain": [
              "<Figure size 432x288 with 1 Axes>"
            ]
          },
          "metadata": {
            "needs_background": "light"
          }
        }
      ],
      "source": [
        "plot_precision_recall_curve(log_model, X_test_scaled, y_test);"
      ]
    },
    {
      "cell_type": "markdown",
      "metadata": {
        "id": "Y6owKbY_4Vbh"
      },
      "source": [
        "## Final Model and Model Deployment"
      ]
    },
    {
      "cell_type": "code",
      "execution_count": 58,
      "metadata": {
        "id": "mLReuRND4Vbh"
      },
      "outputs": [],
      "source": [
        "scaler = StandardScaler().fit(X)"
      ]
    },
    {
      "cell_type": "code",
      "execution_count": 59,
      "metadata": {
        "id": "C1MkJmuG4Vbh"
      },
      "outputs": [],
      "source": [
        "import pickle\n",
        "pickle.dump(scaler, open(\"scaler_hearing\", 'wb'))"
      ]
    },
    {
      "cell_type": "code",
      "execution_count": 60,
      "metadata": {
        "id": "Y3EDWfAM4Vbh"
      },
      "outputs": [],
      "source": [
        "X_scaled = scaler.transform(X)"
      ]
    },
    {
      "cell_type": "code",
      "execution_count": 61,
      "metadata": {
        "id": "RRfpTnsi4Vbi"
      },
      "outputs": [],
      "source": [
        "final_model = LogisticRegression().fit(X_scaled, y)"
      ]
    },
    {
      "cell_type": "code",
      "execution_count": 62,
      "metadata": {
        "id": "NyAyzy4O4Vbj"
      },
      "outputs": [],
      "source": [
        "pickle.dump(final_model, open(\"final_model_hearing\", 'wb'))"
      ]
    },
    {
      "cell_type": "code",
      "execution_count": 63,
      "metadata": {
        "id": "BynbWwxU4Vbj"
      },
      "outputs": [],
      "source": [
        "my_dict = {\"age\": [20, 30, 40, 50, 60],\n",
        "           \"physical_score\": [50, 30, 20, 10, 5]}"
      ]
    },
    {
      "cell_type": "code",
      "execution_count": 64,
      "metadata": {
        "colab": {
          "base_uri": "https://localhost:8080/",
          "height": 206
        },
        "id": "SAwrcgcX4Vbk",
        "outputId": "b7c4a03e-7d04-48c9-f744-3bb4c4009493"
      },
      "outputs": [
        {
          "output_type": "execute_result",
          "data": {
            "text/html": [
              "\n",
              "  <div id=\"df-9d2c5324-8bac-474b-ba92-02cf86c20fbd\">\n",
              "    <div class=\"colab-df-container\">\n",
              "      <div>\n",
              "<style scoped>\n",
              "    .dataframe tbody tr th:only-of-type {\n",
              "        vertical-align: middle;\n",
              "    }\n",
              "\n",
              "    .dataframe tbody tr th {\n",
              "        vertical-align: top;\n",
              "    }\n",
              "\n",
              "    .dataframe thead th {\n",
              "        text-align: right;\n",
              "    }\n",
              "</style>\n",
              "<table border=\"1\" class=\"dataframe\">\n",
              "  <thead>\n",
              "    <tr style=\"text-align: right;\">\n",
              "      <th></th>\n",
              "      <th>age</th>\n",
              "      <th>physical_score</th>\n",
              "    </tr>\n",
              "  </thead>\n",
              "  <tbody>\n",
              "    <tr>\n",
              "      <th>0</th>\n",
              "      <td>20</td>\n",
              "      <td>50</td>\n",
              "    </tr>\n",
              "    <tr>\n",
              "      <th>1</th>\n",
              "      <td>30</td>\n",
              "      <td>30</td>\n",
              "    </tr>\n",
              "    <tr>\n",
              "      <th>2</th>\n",
              "      <td>40</td>\n",
              "      <td>20</td>\n",
              "    </tr>\n",
              "    <tr>\n",
              "      <th>3</th>\n",
              "      <td>50</td>\n",
              "      <td>10</td>\n",
              "    </tr>\n",
              "    <tr>\n",
              "      <th>4</th>\n",
              "      <td>60</td>\n",
              "      <td>5</td>\n",
              "    </tr>\n",
              "  </tbody>\n",
              "</table>\n",
              "</div>\n",
              "      <button class=\"colab-df-convert\" onclick=\"convertToInteractive('df-9d2c5324-8bac-474b-ba92-02cf86c20fbd')\"\n",
              "              title=\"Convert this dataframe to an interactive table.\"\n",
              "              style=\"display:none;\">\n",
              "        \n",
              "  <svg xmlns=\"http://www.w3.org/2000/svg\" height=\"24px\"viewBox=\"0 0 24 24\"\n",
              "       width=\"24px\">\n",
              "    <path d=\"M0 0h24v24H0V0z\" fill=\"none\"/>\n",
              "    <path d=\"M18.56 5.44l.94 2.06.94-2.06 2.06-.94-2.06-.94-.94-2.06-.94 2.06-2.06.94zm-11 1L8.5 8.5l.94-2.06 2.06-.94-2.06-.94L8.5 2.5l-.94 2.06-2.06.94zm10 10l.94 2.06.94-2.06 2.06-.94-2.06-.94-.94-2.06-.94 2.06-2.06.94z\"/><path d=\"M17.41 7.96l-1.37-1.37c-.4-.4-.92-.59-1.43-.59-.52 0-1.04.2-1.43.59L10.3 9.45l-7.72 7.72c-.78.78-.78 2.05 0 2.83L4 21.41c.39.39.9.59 1.41.59.51 0 1.02-.2 1.41-.59l7.78-7.78 2.81-2.81c.8-.78.8-2.07 0-2.86zM5.41 20L4 18.59l7.72-7.72 1.47 1.35L5.41 20z\"/>\n",
              "  </svg>\n",
              "      </button>\n",
              "      \n",
              "  <style>\n",
              "    .colab-df-container {\n",
              "      display:flex;\n",
              "      flex-wrap:wrap;\n",
              "      gap: 12px;\n",
              "    }\n",
              "\n",
              "    .colab-df-convert {\n",
              "      background-color: #E8F0FE;\n",
              "      border: none;\n",
              "      border-radius: 50%;\n",
              "      cursor: pointer;\n",
              "      display: none;\n",
              "      fill: #1967D2;\n",
              "      height: 32px;\n",
              "      padding: 0 0 0 0;\n",
              "      width: 32px;\n",
              "    }\n",
              "\n",
              "    .colab-df-convert:hover {\n",
              "      background-color: #E2EBFA;\n",
              "      box-shadow: 0px 1px 2px rgba(60, 64, 67, 0.3), 0px 1px 3px 1px rgba(60, 64, 67, 0.15);\n",
              "      fill: #174EA6;\n",
              "    }\n",
              "\n",
              "    [theme=dark] .colab-df-convert {\n",
              "      background-color: #3B4455;\n",
              "      fill: #D2E3FC;\n",
              "    }\n",
              "\n",
              "    [theme=dark] .colab-df-convert:hover {\n",
              "      background-color: #434B5C;\n",
              "      box-shadow: 0px 1px 3px 1px rgba(0, 0, 0, 0.15);\n",
              "      filter: drop-shadow(0px 1px 2px rgba(0, 0, 0, 0.3));\n",
              "      fill: #FFFFFF;\n",
              "    }\n",
              "  </style>\n",
              "\n",
              "      <script>\n",
              "        const buttonEl =\n",
              "          document.querySelector('#df-9d2c5324-8bac-474b-ba92-02cf86c20fbd button.colab-df-convert');\n",
              "        buttonEl.style.display =\n",
              "          google.colab.kernel.accessAllowed ? 'block' : 'none';\n",
              "\n",
              "        async function convertToInteractive(key) {\n",
              "          const element = document.querySelector('#df-9d2c5324-8bac-474b-ba92-02cf86c20fbd');\n",
              "          const dataTable =\n",
              "            await google.colab.kernel.invokeFunction('convertToInteractive',\n",
              "                                                     [key], {});\n",
              "          if (!dataTable) return;\n",
              "\n",
              "          const docLinkHtml = 'Like what you see? Visit the ' +\n",
              "            '<a target=\"_blank\" href=https://colab.research.google.com/notebooks/data_table.ipynb>data table notebook</a>'\n",
              "            + ' to learn more about interactive tables.';\n",
              "          element.innerHTML = '';\n",
              "          dataTable['output_type'] = 'display_data';\n",
              "          await google.colab.output.renderOutput(dataTable, element);\n",
              "          const docLink = document.createElement('div');\n",
              "          docLink.innerHTML = docLinkHtml;\n",
              "          element.appendChild(docLink);\n",
              "        }\n",
              "      </script>\n",
              "    </div>\n",
              "  </div>\n",
              "  "
            ],
            "text/plain": [
              "   age  physical_score\n",
              "0   20              50\n",
              "1   30              30\n",
              "2   40              20\n",
              "3   50              10\n",
              "4   60               5"
            ]
          },
          "metadata": {},
          "execution_count": 64
        }
      ],
      "source": [
        "sample = pd.DataFrame(my_dict)\n",
        "sample"
      ]
    },
    {
      "cell_type": "code",
      "execution_count": 65,
      "metadata": {
        "id": "SHGjsU3q4Vbl"
      },
      "outputs": [],
      "source": [
        "scaler_hearing = pickle.load(open(\"scaler_hearing\", \"rb\"))"
      ]
    },
    {
      "cell_type": "code",
      "execution_count": 66,
      "metadata": {
        "colab": {
          "base_uri": "https://localhost:8080/"
        },
        "id": "KgBYng6r4Vbl",
        "outputId": "69fdcd56-0d97-4cee-a66d-fa15865ae8b3"
      },
      "outputs": [
        {
          "output_type": "execute_result",
          "data": {
            "text/plain": [
              "array([[-2.80075819,  2.11038956],\n",
              "       [-1.91469467, -0.33789511],\n",
              "       [-1.02863115, -1.56203745],\n",
              "       [-0.14256762, -2.78617979],\n",
              "       [ 0.7434959 , -3.39825096]])"
            ]
          },
          "metadata": {},
          "execution_count": 66
        }
      ],
      "source": [
        "sample_scaled = scaler_hearing.transform(sample)\n",
        "sample_scaled"
      ]
    },
    {
      "cell_type": "code",
      "execution_count": 67,
      "metadata": {
        "id": "AQ4163jQ4Vbp"
      },
      "outputs": [],
      "source": [
        "final_model = pickle.load(open(\"final_model_hearing\", \"rb\"))"
      ]
    },
    {
      "cell_type": "code",
      "execution_count": 68,
      "metadata": {
        "id": "winxvuBg4Vbq"
      },
      "outputs": [],
      "source": [
        "predictions = final_model.predict(sample_scaled)\n",
        "predictions_proba = final_model.predict_proba(sample_scaled)"
      ]
    },
    {
      "cell_type": "code",
      "execution_count": 69,
      "metadata": {
        "colab": {
          "base_uri": "https://localhost:8080/",
          "height": 206
        },
        "id": "rbELPesh4Vbq",
        "outputId": "aae9670e-300d-461d-dec1-e5580ba31550"
      },
      "outputs": [
        {
          "output_type": "execute_result",
          "data": {
            "text/html": [
              "\n",
              "  <div id=\"df-e0221ab3-f758-4ece-983a-c1a23e7799b4\">\n",
              "    <div class=\"colab-df-container\">\n",
              "      <div>\n",
              "<style scoped>\n",
              "    .dataframe tbody tr th:only-of-type {\n",
              "        vertical-align: middle;\n",
              "    }\n",
              "\n",
              "    .dataframe tbody tr th {\n",
              "        vertical-align: top;\n",
              "    }\n",
              "\n",
              "    .dataframe thead th {\n",
              "        text-align: right;\n",
              "    }\n",
              "</style>\n",
              "<table border=\"1\" class=\"dataframe\">\n",
              "  <thead>\n",
              "    <tr style=\"text-align: right;\">\n",
              "      <th></th>\n",
              "      <th>age</th>\n",
              "      <th>physical_score</th>\n",
              "      <th>pred</th>\n",
              "      <th>pred_proba</th>\n",
              "    </tr>\n",
              "  </thead>\n",
              "  <tbody>\n",
              "    <tr>\n",
              "      <th>0</th>\n",
              "      <td>20</td>\n",
              "      <td>50</td>\n",
              "      <td>1</td>\n",
              "      <td>1.000</td>\n",
              "    </tr>\n",
              "    <tr>\n",
              "      <th>1</th>\n",
              "      <td>30</td>\n",
              "      <td>30</td>\n",
              "      <td>1</td>\n",
              "      <td>0.730</td>\n",
              "    </tr>\n",
              "    <tr>\n",
              "      <th>2</th>\n",
              "      <td>40</td>\n",
              "      <td>20</td>\n",
              "      <td>0</td>\n",
              "      <td>0.016</td>\n",
              "    </tr>\n",
              "    <tr>\n",
              "      <th>3</th>\n",
              "      <td>50</td>\n",
              "      <td>10</td>\n",
              "      <td>0</td>\n",
              "      <td>0.000</td>\n",
              "    </tr>\n",
              "    <tr>\n",
              "      <th>4</th>\n",
              "      <td>60</td>\n",
              "      <td>5</td>\n",
              "      <td>0</td>\n",
              "      <td>0.000</td>\n",
              "    </tr>\n",
              "  </tbody>\n",
              "</table>\n",
              "</div>\n",
              "      <button class=\"colab-df-convert\" onclick=\"convertToInteractive('df-e0221ab3-f758-4ece-983a-c1a23e7799b4')\"\n",
              "              title=\"Convert this dataframe to an interactive table.\"\n",
              "              style=\"display:none;\">\n",
              "        \n",
              "  <svg xmlns=\"http://www.w3.org/2000/svg\" height=\"24px\"viewBox=\"0 0 24 24\"\n",
              "       width=\"24px\">\n",
              "    <path d=\"M0 0h24v24H0V0z\" fill=\"none\"/>\n",
              "    <path d=\"M18.56 5.44l.94 2.06.94-2.06 2.06-.94-2.06-.94-.94-2.06-.94 2.06-2.06.94zm-11 1L8.5 8.5l.94-2.06 2.06-.94-2.06-.94L8.5 2.5l-.94 2.06-2.06.94zm10 10l.94 2.06.94-2.06 2.06-.94-2.06-.94-.94-2.06-.94 2.06-2.06.94z\"/><path d=\"M17.41 7.96l-1.37-1.37c-.4-.4-.92-.59-1.43-.59-.52 0-1.04.2-1.43.59L10.3 9.45l-7.72 7.72c-.78.78-.78 2.05 0 2.83L4 21.41c.39.39.9.59 1.41.59.51 0 1.02-.2 1.41-.59l7.78-7.78 2.81-2.81c.8-.78.8-2.07 0-2.86zM5.41 20L4 18.59l7.72-7.72 1.47 1.35L5.41 20z\"/>\n",
              "  </svg>\n",
              "      </button>\n",
              "      \n",
              "  <style>\n",
              "    .colab-df-container {\n",
              "      display:flex;\n",
              "      flex-wrap:wrap;\n",
              "      gap: 12px;\n",
              "    }\n",
              "\n",
              "    .colab-df-convert {\n",
              "      background-color: #E8F0FE;\n",
              "      border: none;\n",
              "      border-radius: 50%;\n",
              "      cursor: pointer;\n",
              "      display: none;\n",
              "      fill: #1967D2;\n",
              "      height: 32px;\n",
              "      padding: 0 0 0 0;\n",
              "      width: 32px;\n",
              "    }\n",
              "\n",
              "    .colab-df-convert:hover {\n",
              "      background-color: #E2EBFA;\n",
              "      box-shadow: 0px 1px 2px rgba(60, 64, 67, 0.3), 0px 1px 3px 1px rgba(60, 64, 67, 0.15);\n",
              "      fill: #174EA6;\n",
              "    }\n",
              "\n",
              "    [theme=dark] .colab-df-convert {\n",
              "      background-color: #3B4455;\n",
              "      fill: #D2E3FC;\n",
              "    }\n",
              "\n",
              "    [theme=dark] .colab-df-convert:hover {\n",
              "      background-color: #434B5C;\n",
              "      box-shadow: 0px 1px 3px 1px rgba(0, 0, 0, 0.15);\n",
              "      filter: drop-shadow(0px 1px 2px rgba(0, 0, 0, 0.3));\n",
              "      fill: #FFFFFF;\n",
              "    }\n",
              "  </style>\n",
              "\n",
              "      <script>\n",
              "        const buttonEl =\n",
              "          document.querySelector('#df-e0221ab3-f758-4ece-983a-c1a23e7799b4 button.colab-df-convert');\n",
              "        buttonEl.style.display =\n",
              "          google.colab.kernel.accessAllowed ? 'block' : 'none';\n",
              "\n",
              "        async function convertToInteractive(key) {\n",
              "          const element = document.querySelector('#df-e0221ab3-f758-4ece-983a-c1a23e7799b4');\n",
              "          const dataTable =\n",
              "            await google.colab.kernel.invokeFunction('convertToInteractive',\n",
              "                                                     [key], {});\n",
              "          if (!dataTable) return;\n",
              "\n",
              "          const docLinkHtml = 'Like what you see? Visit the ' +\n",
              "            '<a target=\"_blank\" href=https://colab.research.google.com/notebooks/data_table.ipynb>data table notebook</a>'\n",
              "            + ' to learn more about interactive tables.';\n",
              "          element.innerHTML = '';\n",
              "          dataTable['output_type'] = 'display_data';\n",
              "          await google.colab.output.renderOutput(dataTable, element);\n",
              "          const docLink = document.createElement('div');\n",
              "          docLink.innerHTML = docLinkHtml;\n",
              "          element.appendChild(docLink);\n",
              "        }\n",
              "      </script>\n",
              "    </div>\n",
              "  </div>\n",
              "  "
            ],
            "text/plain": [
              "   age  physical_score  pred  pred_proba\n",
              "0   20              50     1       1.000\n",
              "1   30              30     1       0.730\n",
              "2   40              20     0       0.016\n",
              "3   50              10     0       0.000\n",
              "4   60               5     0       0.000"
            ]
          },
          "metadata": {},
          "execution_count": 69
        }
      ],
      "source": [
        "sample[\"pred\"] = predictions\n",
        "sample[\"pred_proba\"] = predictions_proba[:,1]\n",
        "sample"
      ]
    },
    {
      "cell_type": "code",
      "source": [
        ""
      ],
      "metadata": {
        "id": "9IDadiFUDE_F"
      },
      "execution_count": 69,
      "outputs": []
    }
  ],
  "metadata": {
    "kernelspec": {
      "display_name": "Python 3 (ipykernel)",
      "language": "python",
      "name": "python3"
    },
    "language_info": {
      "codemirror_mode": {
        "name": "ipython",
        "version": 3
      },
      "file_extension": ".py",
      "mimetype": "text/x-python",
      "name": "python",
      "nbconvert_exporter": "python",
      "pygments_lexer": "ipython3",
      "version": "3.7.9"
    },
    "colab": {
      "name": "ML-8 (Logistic Regression-hearing)(TR) Student - 20 Jan 2022.ipynb",
      "provenance": [],
      "include_colab_link": true
    }
  },
  "nbformat": 4,
  "nbformat_minor": 0
}